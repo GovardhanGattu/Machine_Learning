{
 "cells": [
  {
   "cell_type": "markdown",
   "id": "df7f4ecd",
   "metadata": {},
   "source": [
    "## Objective : To predict the Temperature based on the input features"
   ]
  },
  {
   "cell_type": "code",
   "execution_count": 1,
   "id": "55181ce6",
   "metadata": {},
   "outputs": [],
   "source": [
    "import pandas as pd\n",
    "import numpy as np\n",
    "import seaborn as sns\n",
    "import matplotlib.pyplot as plt\n",
    "%matplotlib inline"
   ]
  },
  {
   "cell_type": "code",
   "execution_count": 106,
   "id": "46c9ebba",
   "metadata": {},
   "outputs": [],
   "source": [
    "df=pd.read_csv(\"Algerian_forest_fires_dataset_UPDATE.csv\",header=1)"
   ]
  },
  {
   "cell_type": "code",
   "execution_count": 107,
   "id": "7d91b7a9",
   "metadata": {
    "scrolled": true
   },
   "outputs": [
    {
     "data": {
      "text/html": [
       "<div>\n",
       "<style scoped>\n",
       "    .dataframe tbody tr th:only-of-type {\n",
       "        vertical-align: middle;\n",
       "    }\n",
       "\n",
       "    .dataframe tbody tr th {\n",
       "        vertical-align: top;\n",
       "    }\n",
       "\n",
       "    .dataframe thead th {\n",
       "        text-align: right;\n",
       "    }\n",
       "</style>\n",
       "<table border=\"1\" class=\"dataframe\">\n",
       "  <thead>\n",
       "    <tr style=\"text-align: right;\">\n",
       "      <th></th>\n",
       "      <th>day</th>\n",
       "      <th>month</th>\n",
       "      <th>year</th>\n",
       "      <th>Temperature</th>\n",
       "      <th>RH</th>\n",
       "      <th>Ws</th>\n",
       "      <th>Rain</th>\n",
       "      <th>FFMC</th>\n",
       "      <th>DMC</th>\n",
       "      <th>DC</th>\n",
       "      <th>ISI</th>\n",
       "      <th>BUI</th>\n",
       "      <th>FWI</th>\n",
       "      <th>Classes</th>\n",
       "    </tr>\n",
       "  </thead>\n",
       "  <tbody>\n",
       "    <tr>\n",
       "      <th>0</th>\n",
       "      <td>01</td>\n",
       "      <td>06</td>\n",
       "      <td>2012</td>\n",
       "      <td>29</td>\n",
       "      <td>57</td>\n",
       "      <td>18</td>\n",
       "      <td>0</td>\n",
       "      <td>65.7</td>\n",
       "      <td>3.4</td>\n",
       "      <td>7.6</td>\n",
       "      <td>1.3</td>\n",
       "      <td>3.4</td>\n",
       "      <td>0.5</td>\n",
       "      <td>not fire</td>\n",
       "    </tr>\n",
       "    <tr>\n",
       "      <th>1</th>\n",
       "      <td>02</td>\n",
       "      <td>06</td>\n",
       "      <td>2012</td>\n",
       "      <td>29</td>\n",
       "      <td>61</td>\n",
       "      <td>13</td>\n",
       "      <td>1.3</td>\n",
       "      <td>64.4</td>\n",
       "      <td>4.1</td>\n",
       "      <td>7.6</td>\n",
       "      <td>1</td>\n",
       "      <td>3.9</td>\n",
       "      <td>0.4</td>\n",
       "      <td>not fire</td>\n",
       "    </tr>\n",
       "    <tr>\n",
       "      <th>2</th>\n",
       "      <td>03</td>\n",
       "      <td>06</td>\n",
       "      <td>2012</td>\n",
       "      <td>26</td>\n",
       "      <td>82</td>\n",
       "      <td>22</td>\n",
       "      <td>13.1</td>\n",
       "      <td>47.1</td>\n",
       "      <td>2.5</td>\n",
       "      <td>7.1</td>\n",
       "      <td>0.3</td>\n",
       "      <td>2.7</td>\n",
       "      <td>0.1</td>\n",
       "      <td>not fire</td>\n",
       "    </tr>\n",
       "    <tr>\n",
       "      <th>3</th>\n",
       "      <td>04</td>\n",
       "      <td>06</td>\n",
       "      <td>2012</td>\n",
       "      <td>25</td>\n",
       "      <td>89</td>\n",
       "      <td>13</td>\n",
       "      <td>2.5</td>\n",
       "      <td>28.6</td>\n",
       "      <td>1.3</td>\n",
       "      <td>6.9</td>\n",
       "      <td>0</td>\n",
       "      <td>1.7</td>\n",
       "      <td>0</td>\n",
       "      <td>not fire</td>\n",
       "    </tr>\n",
       "    <tr>\n",
       "      <th>4</th>\n",
       "      <td>05</td>\n",
       "      <td>06</td>\n",
       "      <td>2012</td>\n",
       "      <td>27</td>\n",
       "      <td>77</td>\n",
       "      <td>16</td>\n",
       "      <td>0</td>\n",
       "      <td>64.8</td>\n",
       "      <td>3</td>\n",
       "      <td>14.2</td>\n",
       "      <td>1.2</td>\n",
       "      <td>3.9</td>\n",
       "      <td>0.5</td>\n",
       "      <td>not fire</td>\n",
       "    </tr>\n",
       "    <tr>\n",
       "      <th>...</th>\n",
       "      <td>...</td>\n",
       "      <td>...</td>\n",
       "      <td>...</td>\n",
       "      <td>...</td>\n",
       "      <td>...</td>\n",
       "      <td>...</td>\n",
       "      <td>...</td>\n",
       "      <td>...</td>\n",
       "      <td>...</td>\n",
       "      <td>...</td>\n",
       "      <td>...</td>\n",
       "      <td>...</td>\n",
       "      <td>...</td>\n",
       "      <td>...</td>\n",
       "    </tr>\n",
       "    <tr>\n",
       "      <th>241</th>\n",
       "      <td>26</td>\n",
       "      <td>09</td>\n",
       "      <td>2012</td>\n",
       "      <td>30</td>\n",
       "      <td>65</td>\n",
       "      <td>14</td>\n",
       "      <td>0</td>\n",
       "      <td>85.4</td>\n",
       "      <td>16</td>\n",
       "      <td>44.5</td>\n",
       "      <td>4.5</td>\n",
       "      <td>16.9</td>\n",
       "      <td>6.5</td>\n",
       "      <td>fire</td>\n",
       "    </tr>\n",
       "    <tr>\n",
       "      <th>242</th>\n",
       "      <td>27</td>\n",
       "      <td>09</td>\n",
       "      <td>2012</td>\n",
       "      <td>28</td>\n",
       "      <td>87</td>\n",
       "      <td>15</td>\n",
       "      <td>4.4</td>\n",
       "      <td>41.1</td>\n",
       "      <td>6.5</td>\n",
       "      <td>8</td>\n",
       "      <td>0.1</td>\n",
       "      <td>6.2</td>\n",
       "      <td>0</td>\n",
       "      <td>not fire</td>\n",
       "    </tr>\n",
       "    <tr>\n",
       "      <th>243</th>\n",
       "      <td>28</td>\n",
       "      <td>09</td>\n",
       "      <td>2012</td>\n",
       "      <td>27</td>\n",
       "      <td>87</td>\n",
       "      <td>29</td>\n",
       "      <td>0.5</td>\n",
       "      <td>45.9</td>\n",
       "      <td>3.5</td>\n",
       "      <td>7.9</td>\n",
       "      <td>0.4</td>\n",
       "      <td>3.4</td>\n",
       "      <td>0.2</td>\n",
       "      <td>not fire</td>\n",
       "    </tr>\n",
       "    <tr>\n",
       "      <th>244</th>\n",
       "      <td>29</td>\n",
       "      <td>09</td>\n",
       "      <td>2012</td>\n",
       "      <td>24</td>\n",
       "      <td>54</td>\n",
       "      <td>18</td>\n",
       "      <td>0.1</td>\n",
       "      <td>79.7</td>\n",
       "      <td>4.3</td>\n",
       "      <td>15.2</td>\n",
       "      <td>1.7</td>\n",
       "      <td>5.1</td>\n",
       "      <td>0.7</td>\n",
       "      <td>not fire</td>\n",
       "    </tr>\n",
       "    <tr>\n",
       "      <th>245</th>\n",
       "      <td>30</td>\n",
       "      <td>09</td>\n",
       "      <td>2012</td>\n",
       "      <td>24</td>\n",
       "      <td>64</td>\n",
       "      <td>15</td>\n",
       "      <td>0.2</td>\n",
       "      <td>67.3</td>\n",
       "      <td>3.8</td>\n",
       "      <td>16.5</td>\n",
       "      <td>1.2</td>\n",
       "      <td>4.8</td>\n",
       "      <td>0.5</td>\n",
       "      <td>not fire</td>\n",
       "    </tr>\n",
       "  </tbody>\n",
       "</table>\n",
       "<p>246 rows × 14 columns</p>\n",
       "</div>"
      ],
      "text/plain": [
       "    day month  year Temperature  RH  Ws Rain   FFMC  DMC    DC  ISI   BUI  \\\n",
       "0    01    06  2012          29  57  18     0  65.7  3.4   7.6  1.3   3.4   \n",
       "1    02    06  2012          29  61  13   1.3  64.4  4.1   7.6    1   3.9   \n",
       "2    03    06  2012          26  82  22  13.1  47.1  2.5   7.1  0.3   2.7   \n",
       "3    04    06  2012          25  89  13   2.5  28.6  1.3   6.9    0   1.7   \n",
       "4    05    06  2012          27  77  16     0  64.8    3  14.2  1.2   3.9   \n",
       "..   ..   ...   ...         ...  ..  ..   ...   ...  ...   ...  ...   ...   \n",
       "241  26    09  2012          30  65  14     0  85.4   16  44.5  4.5  16.9   \n",
       "242  27    09  2012          28  87  15   4.4  41.1  6.5     8  0.1   6.2   \n",
       "243  28    09  2012          27  87  29   0.5  45.9  3.5   7.9  0.4   3.4   \n",
       "244  29    09  2012          24  54  18   0.1  79.7  4.3  15.2  1.7   5.1   \n",
       "245  30    09  2012          24  64  15   0.2  67.3  3.8  16.5  1.2   4.8   \n",
       "\n",
       "     FWI     Classes    \n",
       "0    0.5   not fire     \n",
       "1    0.4   not fire     \n",
       "2    0.1   not fire     \n",
       "3      0   not fire     \n",
       "4    0.5   not fire     \n",
       "..   ...           ...  \n",
       "241  6.5       fire     \n",
       "242    0   not fire     \n",
       "243  0.2   not fire     \n",
       "244  0.7   not fire     \n",
       "245  0.5  not fire      \n",
       "\n",
       "[246 rows x 14 columns]"
      ]
     },
     "execution_count": 107,
     "metadata": {},
     "output_type": "execute_result"
    }
   ],
   "source": [
    "df"
   ]
  },
  {
   "cell_type": "code",
   "execution_count": 108,
   "id": "e4dbf207",
   "metadata": {
    "scrolled": true
   },
   "outputs": [
    {
     "name": "stderr",
     "output_type": "stream",
     "text": [
      "C:\\Users\\Govardhan\\anaconda3\\lib\\site-packages\\seaborn\\_decorators.py:36: FutureWarning: Pass the following variables as keyword args: x, y. From version 0.12, the only valid positional argument will be `data`, and passing other arguments without an explicit keyword will result in an error or misinterpretation.\n",
      "  warnings.warn(\n"
     ]
    },
    {
     "data": {
      "text/plain": [
       "<AxesSubplot:xlabel='Temperature', ylabel='Classes  '>"
      ]
     },
     "execution_count": 108,
     "metadata": {},
     "output_type": "execute_result"
    },
    {
     "data": {
      "image/png": "[encoded data removed]",
      "text/plain": [
       "<Figure size 432x288 with 1 Axes>"
      ]
     },
     "metadata": {
      "needs_background": "light"
     },
     "output_type": "display_data"
    }
   ],
   "source": [
    "sns.scatterplot(df['Temperature'],df['Classes  '])"
   ]
  },
  {
   "cell_type": "markdown",
   "id": "8e37e8fb",
   "metadata": {},
   "source": [
    "###  since there is no correlation between temperature and classes we can drop the classes column"
   ]
  },
  {
   "cell_type": "code",
   "execution_count": 109,
   "id": "6469048f",
   "metadata": {},
   "outputs": [],
   "source": [
    "df.drop('Classes  ',axis=1,inplace=True)"
   ]
  },
  {
   "cell_type": "code",
   "execution_count": 110,
   "id": "7035aa9d",
   "metadata": {},
   "outputs": [
    {
     "data": {
      "text/html": [
       "<div>\n",
       "<style scoped>\n",
       "    .dataframe tbody tr th:only-of-type {\n",
       "        vertical-align: middle;\n",
       "    }\n",
       "\n",
       "    .dataframe tbody tr th {\n",
       "        vertical-align: top;\n",
       "    }\n",
       "\n",
       "    .dataframe thead th {\n",
       "        text-align: right;\n",
       "    }\n",
       "</style>\n",
       "<table border=\"1\" class=\"dataframe\">\n",
       "  <thead>\n",
       "    <tr style=\"text-align: right;\">\n",
       "      <th></th>\n",
       "      <th>day</th>\n",
       "      <th>month</th>\n",
       "      <th>year</th>\n",
       "      <th>Temperature</th>\n",
       "      <th>RH</th>\n",
       "      <th>Ws</th>\n",
       "      <th>Rain</th>\n",
       "      <th>FFMC</th>\n",
       "      <th>DMC</th>\n",
       "      <th>DC</th>\n",
       "      <th>ISI</th>\n",
       "      <th>BUI</th>\n",
       "      <th>FWI</th>\n",
       "    </tr>\n",
       "  </thead>\n",
       "  <tbody>\n",
       "    <tr>\n",
       "      <th>0</th>\n",
       "      <td>01</td>\n",
       "      <td>06</td>\n",
       "      <td>2012</td>\n",
       "      <td>29</td>\n",
       "      <td>57</td>\n",
       "      <td>18</td>\n",
       "      <td>0</td>\n",
       "      <td>65.7</td>\n",
       "      <td>3.4</td>\n",
       "      <td>7.6</td>\n",
       "      <td>1.3</td>\n",
       "      <td>3.4</td>\n",
       "      <td>0.5</td>\n",
       "    </tr>\n",
       "    <tr>\n",
       "      <th>1</th>\n",
       "      <td>02</td>\n",
       "      <td>06</td>\n",
       "      <td>2012</td>\n",
       "      <td>29</td>\n",
       "      <td>61</td>\n",
       "      <td>13</td>\n",
       "      <td>1.3</td>\n",
       "      <td>64.4</td>\n",
       "      <td>4.1</td>\n",
       "      <td>7.6</td>\n",
       "      <td>1</td>\n",
       "      <td>3.9</td>\n",
       "      <td>0.4</td>\n",
       "    </tr>\n",
       "    <tr>\n",
       "      <th>2</th>\n",
       "      <td>03</td>\n",
       "      <td>06</td>\n",
       "      <td>2012</td>\n",
       "      <td>26</td>\n",
       "      <td>82</td>\n",
       "      <td>22</td>\n",
       "      <td>13.1</td>\n",
       "      <td>47.1</td>\n",
       "      <td>2.5</td>\n",
       "      <td>7.1</td>\n",
       "      <td>0.3</td>\n",
       "      <td>2.7</td>\n",
       "      <td>0.1</td>\n",
       "    </tr>\n",
       "    <tr>\n",
       "      <th>3</th>\n",
       "      <td>04</td>\n",
       "      <td>06</td>\n",
       "      <td>2012</td>\n",
       "      <td>25</td>\n",
       "      <td>89</td>\n",
       "      <td>13</td>\n",
       "      <td>2.5</td>\n",
       "      <td>28.6</td>\n",
       "      <td>1.3</td>\n",
       "      <td>6.9</td>\n",
       "      <td>0</td>\n",
       "      <td>1.7</td>\n",
       "      <td>0</td>\n",
       "    </tr>\n",
       "    <tr>\n",
       "      <th>4</th>\n",
       "      <td>05</td>\n",
       "      <td>06</td>\n",
       "      <td>2012</td>\n",
       "      <td>27</td>\n",
       "      <td>77</td>\n",
       "      <td>16</td>\n",
       "      <td>0</td>\n",
       "      <td>64.8</td>\n",
       "      <td>3</td>\n",
       "      <td>14.2</td>\n",
       "      <td>1.2</td>\n",
       "      <td>3.9</td>\n",
       "      <td>0.5</td>\n",
       "    </tr>\n",
       "    <tr>\n",
       "      <th>...</th>\n",
       "      <td>...</td>\n",
       "      <td>...</td>\n",
       "      <td>...</td>\n",
       "      <td>...</td>\n",
       "      <td>...</td>\n",
       "      <td>...</td>\n",
       "      <td>...</td>\n",
       "      <td>...</td>\n",
       "      <td>...</td>\n",
       "      <td>...</td>\n",
       "      <td>...</td>\n",
       "      <td>...</td>\n",
       "      <td>...</td>\n",
       "    </tr>\n",
       "    <tr>\n",
       "      <th>241</th>\n",
       "      <td>26</td>\n",
       "      <td>09</td>\n",
       "      <td>2012</td>\n",
       "      <td>30</td>\n",
       "      <td>65</td>\n",
       "      <td>14</td>\n",
       "      <td>0</td>\n",
       "      <td>85.4</td>\n",
       "      <td>16</td>\n",
       "      <td>44.5</td>\n",
       "      <td>4.5</td>\n",
       "      <td>16.9</td>\n",
       "      <td>6.5</td>\n",
       "    </tr>\n",
       "    <tr>\n",
       "      <th>242</th>\n",
       "      <td>27</td>\n",
       "      <td>09</td>\n",
       "      <td>2012</td>\n",
       "      <td>28</td>\n",
       "      <td>87</td>\n",
       "      <td>15</td>\n",
       "      <td>4.4</td>\n",
       "      <td>41.1</td>\n",
       "      <td>6.5</td>\n",
       "      <td>8</td>\n",
       "      <td>0.1</td>\n",
       "      <td>6.2</td>\n",
       "      <td>0</td>\n",
       "    </tr>\n",
       "    <tr>\n",
       "      <th>243</th>\n",
       "      <td>28</td>\n",
       "      <td>09</td>\n",
       "      <td>2012</td>\n",
       "      <td>27</td>\n",
       "      <td>87</td>\n",
       "      <td>29</td>\n",
       "      <td>0.5</td>\n",
       "      <td>45.9</td>\n",
       "      <td>3.5</td>\n",
       "      <td>7.9</td>\n",
       "      <td>0.4</td>\n",
       "      <td>3.4</td>\n",
       "      <td>0.2</td>\n",
       "    </tr>\n",
       "    <tr>\n",
       "      <th>244</th>\n",
       "      <td>29</td>\n",
       "      <td>09</td>\n",
       "      <td>2012</td>\n",
       "      <td>24</td>\n",
       "      <td>54</td>\n",
       "      <td>18</td>\n",
       "      <td>0.1</td>\n",
       "      <td>79.7</td>\n",
       "      <td>4.3</td>\n",
       "      <td>15.2</td>\n",
       "      <td>1.7</td>\n",
       "      <td>5.1</td>\n",
       "      <td>0.7</td>\n",
       "    </tr>\n",
       "    <tr>\n",
       "      <th>245</th>\n",
       "      <td>30</td>\n",
       "      <td>09</td>\n",
       "      <td>2012</td>\n",
       "      <td>24</td>\n",
       "      <td>64</td>\n",
       "      <td>15</td>\n",
       "      <td>0.2</td>\n",
       "      <td>67.3</td>\n",
       "      <td>3.8</td>\n",
       "      <td>16.5</td>\n",
       "      <td>1.2</td>\n",
       "      <td>4.8</td>\n",
       "      <td>0.5</td>\n",
       "    </tr>\n",
       "  </tbody>\n",
       "</table>\n",
       "<p>246 rows × 13 columns</p>\n",
       "</div>"
      ],
      "text/plain": [
       "    day month  year Temperature  RH  Ws Rain   FFMC  DMC    DC  ISI   BUI  FWI\n",
       "0    01    06  2012          29  57  18     0  65.7  3.4   7.6  1.3   3.4  0.5\n",
       "1    02    06  2012          29  61  13   1.3  64.4  4.1   7.6    1   3.9  0.4\n",
       "2    03    06  2012          26  82  22  13.1  47.1  2.5   7.1  0.3   2.7  0.1\n",
       "3    04    06  2012          25  89  13   2.5  28.6  1.3   6.9    0   1.7    0\n",
       "4    05    06  2012          27  77  16     0  64.8    3  14.2  1.2   3.9  0.5\n",
       "..   ..   ...   ...         ...  ..  ..   ...   ...  ...   ...  ...   ...  ...\n",
       "241  26    09  2012          30  65  14     0  85.4   16  44.5  4.5  16.9  6.5\n",
       "242  27    09  2012          28  87  15   4.4  41.1  6.5     8  0.1   6.2    0\n",
       "243  28    09  2012          27  87  29   0.5  45.9  3.5   7.9  0.4   3.4  0.2\n",
       "244  29    09  2012          24  54  18   0.1  79.7  4.3  15.2  1.7   5.1  0.7\n",
       "245  30    09  2012          24  64  15   0.2  67.3  3.8  16.5  1.2   4.8  0.5\n",
       "\n",
       "[246 rows x 13 columns]"
      ]
     },
     "execution_count": 110,
     "metadata": {},
     "output_type": "execute_result"
    }
   ],
   "source": [
    "df"
   ]
  },
  {
   "cell_type": "code",
   "execution_count": 111,
   "id": "6df4a2e1",
   "metadata": {},
   "outputs": [],
   "source": [
    "df['Temperature_Value']=df['Temperature']\n",
    "df.drop('Temperature',axis=1,inplace=True)"
   ]
  },
  {
   "cell_type": "code",
   "execution_count": 112,
   "id": "c650e043",
   "metadata": {},
   "outputs": [
    {
     "data": {
      "text/html": [
       "<div>\n",
       "<style scoped>\n",
       "    .dataframe tbody tr th:only-of-type {\n",
       "        vertical-align: middle;\n",
       "    }\n",
       "\n",
       "    .dataframe tbody tr th {\n",
       "        vertical-align: top;\n",
       "    }\n",
       "\n",
       "    .dataframe thead th {\n",
       "        text-align: right;\n",
       "    }\n",
       "</style>\n",
       "<table border=\"1\" class=\"dataframe\">\n",
       "  <thead>\n",
       "    <tr style=\"text-align: right;\">\n",
       "      <th></th>\n",
       "      <th>day</th>\n",
       "      <th>month</th>\n",
       "      <th>year</th>\n",
       "      <th>RH</th>\n",
       "      <th>Ws</th>\n",
       "      <th>Rain</th>\n",
       "      <th>FFMC</th>\n",
       "      <th>DMC</th>\n",
       "      <th>DC</th>\n",
       "      <th>ISI</th>\n",
       "      <th>BUI</th>\n",
       "      <th>FWI</th>\n",
       "      <th>Temperature_Value</th>\n",
       "    </tr>\n",
       "  </thead>\n",
       "  <tbody>\n",
       "    <tr>\n",
       "      <th>0</th>\n",
       "      <td>01</td>\n",
       "      <td>06</td>\n",
       "      <td>2012</td>\n",
       "      <td>57</td>\n",
       "      <td>18</td>\n",
       "      <td>0</td>\n",
       "      <td>65.7</td>\n",
       "      <td>3.4</td>\n",
       "      <td>7.6</td>\n",
       "      <td>1.3</td>\n",
       "      <td>3.4</td>\n",
       "      <td>0.5</td>\n",
       "      <td>29</td>\n",
       "    </tr>\n",
       "    <tr>\n",
       "      <th>1</th>\n",
       "      <td>02</td>\n",
       "      <td>06</td>\n",
       "      <td>2012</td>\n",
       "      <td>61</td>\n",
       "      <td>13</td>\n",
       "      <td>1.3</td>\n",
       "      <td>64.4</td>\n",
       "      <td>4.1</td>\n",
       "      <td>7.6</td>\n",
       "      <td>1</td>\n",
       "      <td>3.9</td>\n",
       "      <td>0.4</td>\n",
       "      <td>29</td>\n",
       "    </tr>\n",
       "    <tr>\n",
       "      <th>2</th>\n",
       "      <td>03</td>\n",
       "      <td>06</td>\n",
       "      <td>2012</td>\n",
       "      <td>82</td>\n",
       "      <td>22</td>\n",
       "      <td>13.1</td>\n",
       "      <td>47.1</td>\n",
       "      <td>2.5</td>\n",
       "      <td>7.1</td>\n",
       "      <td>0.3</td>\n",
       "      <td>2.7</td>\n",
       "      <td>0.1</td>\n",
       "      <td>26</td>\n",
       "    </tr>\n",
       "    <tr>\n",
       "      <th>3</th>\n",
       "      <td>04</td>\n",
       "      <td>06</td>\n",
       "      <td>2012</td>\n",
       "      <td>89</td>\n",
       "      <td>13</td>\n",
       "      <td>2.5</td>\n",
       "      <td>28.6</td>\n",
       "      <td>1.3</td>\n",
       "      <td>6.9</td>\n",
       "      <td>0</td>\n",
       "      <td>1.7</td>\n",
       "      <td>0</td>\n",
       "      <td>25</td>\n",
       "    </tr>\n",
       "    <tr>\n",
       "      <th>4</th>\n",
       "      <td>05</td>\n",
       "      <td>06</td>\n",
       "      <td>2012</td>\n",
       "      <td>77</td>\n",
       "      <td>16</td>\n",
       "      <td>0</td>\n",
       "      <td>64.8</td>\n",
       "      <td>3</td>\n",
       "      <td>14.2</td>\n",
       "      <td>1.2</td>\n",
       "      <td>3.9</td>\n",
       "      <td>0.5</td>\n",
       "      <td>27</td>\n",
       "    </tr>\n",
       "    <tr>\n",
       "      <th>...</th>\n",
       "      <td>...</td>\n",
       "      <td>...</td>\n",
       "      <td>...</td>\n",
       "      <td>...</td>\n",
       "      <td>...</td>\n",
       "      <td>...</td>\n",
       "      <td>...</td>\n",
       "      <td>...</td>\n",
       "      <td>...</td>\n",
       "      <td>...</td>\n",
       "      <td>...</td>\n",
       "      <td>...</td>\n",
       "      <td>...</td>\n",
       "    </tr>\n",
       "    <tr>\n",
       "      <th>241</th>\n",
       "      <td>26</td>\n",
       "      <td>09</td>\n",
       "      <td>2012</td>\n",
       "      <td>65</td>\n",
       "      <td>14</td>\n",
       "      <td>0</td>\n",
       "      <td>85.4</td>\n",
       "      <td>16</td>\n",
       "      <td>44.5</td>\n",
       "      <td>4.5</td>\n",
       "      <td>16.9</td>\n",
       "      <td>6.5</td>\n",
       "      <td>30</td>\n",
       "    </tr>\n",
       "    <tr>\n",
       "      <th>242</th>\n",
       "      <td>27</td>\n",
       "      <td>09</td>\n",
       "      <td>2012</td>\n",
       "      <td>87</td>\n",
       "      <td>15</td>\n",
       "      <td>4.4</td>\n",
       "      <td>41.1</td>\n",
       "      <td>6.5</td>\n",
       "      <td>8</td>\n",
       "      <td>0.1</td>\n",
       "      <td>6.2</td>\n",
       "      <td>0</td>\n",
       "      <td>28</td>\n",
       "    </tr>\n",
       "    <tr>\n",
       "      <th>243</th>\n",
       "      <td>28</td>\n",
       "      <td>09</td>\n",
       "      <td>2012</td>\n",
       "      <td>87</td>\n",
       "      <td>29</td>\n",
       "      <td>0.5</td>\n",
       "      <td>45.9</td>\n",
       "      <td>3.5</td>\n",
       "      <td>7.9</td>\n",
       "      <td>0.4</td>\n",
       "      <td>3.4</td>\n",
       "      <td>0.2</td>\n",
       "      <td>27</td>\n",
       "    </tr>\n",
       "    <tr>\n",
       "      <th>244</th>\n",
       "      <td>29</td>\n",
       "      <td>09</td>\n",
       "      <td>2012</td>\n",
       "      <td>54</td>\n",
       "      <td>18</td>\n",
       "      <td>0.1</td>\n",
       "      <td>79.7</td>\n",
       "      <td>4.3</td>\n",
       "      <td>15.2</td>\n",
       "      <td>1.7</td>\n",
       "      <td>5.1</td>\n",
       "      <td>0.7</td>\n",
       "      <td>24</td>\n",
       "    </tr>\n",
       "    <tr>\n",
       "      <th>245</th>\n",
       "      <td>30</td>\n",
       "      <td>09</td>\n",
       "      <td>2012</td>\n",
       "      <td>64</td>\n",
       "      <td>15</td>\n",
       "      <td>0.2</td>\n",
       "      <td>67.3</td>\n",
       "      <td>3.8</td>\n",
       "      <td>16.5</td>\n",
       "      <td>1.2</td>\n",
       "      <td>4.8</td>\n",
       "      <td>0.5</td>\n",
       "      <td>24</td>\n",
       "    </tr>\n",
       "  </tbody>\n",
       "</table>\n",
       "<p>246 rows × 13 columns</p>\n",
       "</div>"
      ],
      "text/plain": [
       "    day month  year  RH  Ws Rain   FFMC  DMC    DC  ISI   BUI  FWI  \\\n",
       "0    01    06  2012  57  18     0  65.7  3.4   7.6  1.3   3.4  0.5   \n",
       "1    02    06  2012  61  13   1.3  64.4  4.1   7.6    1   3.9  0.4   \n",
       "2    03    06  2012  82  22  13.1  47.1  2.5   7.1  0.3   2.7  0.1   \n",
       "3    04    06  2012  89  13   2.5  28.6  1.3   6.9    0   1.7    0   \n",
       "4    05    06  2012  77  16     0  64.8    3  14.2  1.2   3.9  0.5   \n",
       "..   ..   ...   ...  ..  ..   ...   ...  ...   ...  ...   ...  ...   \n",
       "241  26    09  2012  65  14     0  85.4   16  44.5  4.5  16.9  6.5   \n",
       "242  27    09  2012  87  15   4.4  41.1  6.5     8  0.1   6.2    0   \n",
       "243  28    09  2012  87  29   0.5  45.9  3.5   7.9  0.4   3.4  0.2   \n",
       "244  29    09  2012  54  18   0.1  79.7  4.3  15.2  1.7   5.1  0.7   \n",
       "245  30    09  2012  64  15   0.2  67.3  3.8  16.5  1.2   4.8  0.5   \n",
       "\n",
       "    Temperature_Value  \n",
       "0                  29  \n",
       "1                  29  \n",
       "2                  26  \n",
       "3                  25  \n",
       "4                  27  \n",
       "..                ...  \n",
       "241                30  \n",
       "242                28  \n",
       "243                27  \n",
       "244                24  \n",
       "245                24  \n",
       "\n",
       "[246 rows x 13 columns]"
      ]
     },
     "execution_count": 112,
     "metadata": {},
     "output_type": "execute_result"
    }
   ],
   "source": [
    "df"
   ]
  },
  {
   "cell_type": "code",
   "execution_count": 113,
   "id": "88121828",
   "metadata": {
    "scrolled": true
   },
   "outputs": [
    {
     "data": {
      "text/html": [
       "<div>\n",
       "<style scoped>\n",
       "    .dataframe tbody tr th:only-of-type {\n",
       "        vertical-align: middle;\n",
       "    }\n",
       "\n",
       "    .dataframe tbody tr th {\n",
       "        vertical-align: top;\n",
       "    }\n",
       "\n",
       "    .dataframe thead th {\n",
       "        text-align: right;\n",
       "    }\n",
       "</style>\n",
       "<table border=\"1\" class=\"dataframe\">\n",
       "  <thead>\n",
       "    <tr style=\"text-align: right;\">\n",
       "      <th></th>\n",
       "      <th>day</th>\n",
       "      <th>month</th>\n",
       "      <th>year</th>\n",
       "      <th>RH</th>\n",
       "      <th>Ws</th>\n",
       "      <th>Rain</th>\n",
       "      <th>FFMC</th>\n",
       "      <th>DMC</th>\n",
       "      <th>DC</th>\n",
       "      <th>ISI</th>\n",
       "      <th>BUI</th>\n",
       "      <th>FWI</th>\n",
       "      <th>Temperature_Value</th>\n",
       "    </tr>\n",
       "  </thead>\n",
       "  <tbody>\n",
       "    <tr>\n",
       "      <th>122</th>\n",
       "      <td>Sidi-Bel Abbes Region Dataset</td>\n",
       "      <td>NaN</td>\n",
       "      <td>NaN</td>\n",
       "      <td>NaN</td>\n",
       "      <td>NaN</td>\n",
       "      <td>NaN</td>\n",
       "      <td>NaN</td>\n",
       "      <td>NaN</td>\n",
       "      <td>NaN</td>\n",
       "      <td>NaN</td>\n",
       "      <td>NaN</td>\n",
       "      <td>NaN</td>\n",
       "      <td>NaN</td>\n",
       "    </tr>\n",
       "  </tbody>\n",
       "</table>\n",
       "</div>"
      ],
      "text/plain": [
       "                               day month year   RH   Ws Rain  FFMC  DMC   DC  \\\n",
       "122  Sidi-Bel Abbes Region Dataset   NaN  NaN  NaN  NaN   NaN  NaN  NaN  NaN   \n",
       "\n",
       "     ISI  BUI  FWI Temperature_Value  \n",
       "122  NaN  NaN  NaN               NaN  "
      ]
     },
     "execution_count": 113,
     "metadata": {},
     "output_type": "execute_result"
    }
   ],
   "source": [
    "df[df.isnull().any(axis=1)]"
   ]
  },
  {
   "cell_type": "code",
   "execution_count": 114,
   "id": "77360017",
   "metadata": {},
   "outputs": [],
   "source": [
    "#Removing the row 122\n",
    "df.drop(122,inplace=True)"
   ]
  },
  {
   "cell_type": "code",
   "execution_count": 115,
   "id": "3505beb3",
   "metadata": {},
   "outputs": [
    {
     "data": {
      "text/plain": [
       "day                  0\n",
       "month                0\n",
       "year                 0\n",
       " RH                  0\n",
       " Ws                  0\n",
       "Rain                 0\n",
       "FFMC                 0\n",
       "DMC                  0\n",
       "DC                   0\n",
       "ISI                  0\n",
       "BUI                  0\n",
       "FWI                  0\n",
       "Temperature_Value    0\n",
       "dtype: int64"
      ]
     },
     "execution_count": 115,
     "metadata": {},
     "output_type": "execute_result"
    }
   ],
   "source": [
    "df.isnull().sum()"
   ]
  },
  {
   "cell_type": "code",
   "execution_count": 116,
   "id": "0ec87278",
   "metadata": {
    "scrolled": true
   },
   "outputs": [
    {
     "name": "stdout",
     "output_type": "stream",
     "text": [
      "<class 'pandas.core.frame.DataFrame'>\n",
      "Int64Index: 245 entries, 0 to 245\n",
      "Data columns (total 13 columns):\n",
      " #   Column             Non-Null Count  Dtype \n",
      "---  ------             --------------  ----- \n",
      " 0   day                245 non-null    object\n",
      " 1   month              245 non-null    object\n",
      " 2   year               245 non-null    object\n",
      " 3    RH                245 non-null    object\n",
      " 4    Ws                245 non-null    object\n",
      " 5   Rain               245 non-null    object\n",
      " 6   FFMC               245 non-null    object\n",
      " 7   DMC                245 non-null    object\n",
      " 8   DC                 245 non-null    object\n",
      " 9   ISI                245 non-null    object\n",
      " 10  BUI                245 non-null    object\n",
      " 11  FWI                245 non-null    object\n",
      " 12  Temperature_Value  245 non-null    object\n",
      "dtypes: object(13)\n",
      "memory usage: 26.8+ KB\n"
     ]
    }
   ],
   "source": [
    "df.info()"
   ]
  },
  {
   "cell_type": "code",
   "execution_count": 117,
   "id": "efd4a8d2",
   "metadata": {},
   "outputs": [
    {
     "data": {
      "text/html": [
       "<div>\n",
       "<style scoped>\n",
       "    .dataframe tbody tr th:only-of-type {\n",
       "        vertical-align: middle;\n",
       "    }\n",
       "\n",
       "    .dataframe tbody tr th {\n",
       "        vertical-align: top;\n",
       "    }\n",
       "\n",
       "    .dataframe thead th {\n",
       "        text-align: right;\n",
       "    }\n",
       "</style>\n",
       "<table border=\"1\" class=\"dataframe\">\n",
       "  <thead>\n",
       "    <tr style=\"text-align: right;\">\n",
       "      <th></th>\n",
       "      <th>day</th>\n",
       "      <th>month</th>\n",
       "      <th>year</th>\n",
       "      <th>RH</th>\n",
       "      <th>Ws</th>\n",
       "      <th>Rain</th>\n",
       "      <th>FFMC</th>\n",
       "      <th>DMC</th>\n",
       "      <th>DC</th>\n",
       "      <th>ISI</th>\n",
       "      <th>BUI</th>\n",
       "      <th>FWI</th>\n",
       "      <th>Temperature_Value</th>\n",
       "    </tr>\n",
       "  </thead>\n",
       "  <tbody>\n",
       "    <tr>\n",
       "      <th>121</th>\n",
       "      <td>30</td>\n",
       "      <td>09</td>\n",
       "      <td>2012</td>\n",
       "      <td>78</td>\n",
       "      <td>14</td>\n",
       "      <td>1.4</td>\n",
       "      <td>45</td>\n",
       "      <td>1.9</td>\n",
       "      <td>7.5</td>\n",
       "      <td>0.2</td>\n",
       "      <td>2.4</td>\n",
       "      <td>0.1</td>\n",
       "      <td>25</td>\n",
       "    </tr>\n",
       "    <tr>\n",
       "      <th>123</th>\n",
       "      <td>day</td>\n",
       "      <td>month</td>\n",
       "      <td>year</td>\n",
       "      <td>RH</td>\n",
       "      <td>Ws</td>\n",
       "      <td>Rain</td>\n",
       "      <td>FFMC</td>\n",
       "      <td>DMC</td>\n",
       "      <td>DC</td>\n",
       "      <td>ISI</td>\n",
       "      <td>BUI</td>\n",
       "      <td>FWI</td>\n",
       "      <td>Temperature</td>\n",
       "    </tr>\n",
       "    <tr>\n",
       "      <th>124</th>\n",
       "      <td>01</td>\n",
       "      <td>06</td>\n",
       "      <td>2012</td>\n",
       "      <td>71</td>\n",
       "      <td>12</td>\n",
       "      <td>0.7</td>\n",
       "      <td>57.1</td>\n",
       "      <td>2.5</td>\n",
       "      <td>8.2</td>\n",
       "      <td>0.6</td>\n",
       "      <td>2.8</td>\n",
       "      <td>0.2</td>\n",
       "      <td>32</td>\n",
       "    </tr>\n",
       "    <tr>\n",
       "      <th>125</th>\n",
       "      <td>02</td>\n",
       "      <td>06</td>\n",
       "      <td>2012</td>\n",
       "      <td>73</td>\n",
       "      <td>13</td>\n",
       "      <td>4</td>\n",
       "      <td>55.7</td>\n",
       "      <td>2.7</td>\n",
       "      <td>7.8</td>\n",
       "      <td>0.6</td>\n",
       "      <td>2.9</td>\n",
       "      <td>0.2</td>\n",
       "      <td>30</td>\n",
       "    </tr>\n",
       "    <tr>\n",
       "      <th>126</th>\n",
       "      <td>03</td>\n",
       "      <td>06</td>\n",
       "      <td>2012</td>\n",
       "      <td>80</td>\n",
       "      <td>14</td>\n",
       "      <td>2</td>\n",
       "      <td>48.7</td>\n",
       "      <td>2.2</td>\n",
       "      <td>7.6</td>\n",
       "      <td>0.3</td>\n",
       "      <td>2.6</td>\n",
       "      <td>0.1</td>\n",
       "      <td>29</td>\n",
       "    </tr>\n",
       "    <tr>\n",
       "      <th>...</th>\n",
       "      <td>...</td>\n",
       "      <td>...</td>\n",
       "      <td>...</td>\n",
       "      <td>...</td>\n",
       "      <td>...</td>\n",
       "      <td>...</td>\n",
       "      <td>...</td>\n",
       "      <td>...</td>\n",
       "      <td>...</td>\n",
       "      <td>...</td>\n",
       "      <td>...</td>\n",
       "      <td>...</td>\n",
       "      <td>...</td>\n",
       "    </tr>\n",
       "    <tr>\n",
       "      <th>241</th>\n",
       "      <td>26</td>\n",
       "      <td>09</td>\n",
       "      <td>2012</td>\n",
       "      <td>65</td>\n",
       "      <td>14</td>\n",
       "      <td>0</td>\n",
       "      <td>85.4</td>\n",
       "      <td>16</td>\n",
       "      <td>44.5</td>\n",
       "      <td>4.5</td>\n",
       "      <td>16.9</td>\n",
       "      <td>6.5</td>\n",
       "      <td>30</td>\n",
       "    </tr>\n",
       "    <tr>\n",
       "      <th>242</th>\n",
       "      <td>27</td>\n",
       "      <td>09</td>\n",
       "      <td>2012</td>\n",
       "      <td>87</td>\n",
       "      <td>15</td>\n",
       "      <td>4.4</td>\n",
       "      <td>41.1</td>\n",
       "      <td>6.5</td>\n",
       "      <td>8</td>\n",
       "      <td>0.1</td>\n",
       "      <td>6.2</td>\n",
       "      <td>0</td>\n",
       "      <td>28</td>\n",
       "    </tr>\n",
       "    <tr>\n",
       "      <th>243</th>\n",
       "      <td>28</td>\n",
       "      <td>09</td>\n",
       "      <td>2012</td>\n",
       "      <td>87</td>\n",
       "      <td>29</td>\n",
       "      <td>0.5</td>\n",
       "      <td>45.9</td>\n",
       "      <td>3.5</td>\n",
       "      <td>7.9</td>\n",
       "      <td>0.4</td>\n",
       "      <td>3.4</td>\n",
       "      <td>0.2</td>\n",
       "      <td>27</td>\n",
       "    </tr>\n",
       "    <tr>\n",
       "      <th>244</th>\n",
       "      <td>29</td>\n",
       "      <td>09</td>\n",
       "      <td>2012</td>\n",
       "      <td>54</td>\n",
       "      <td>18</td>\n",
       "      <td>0.1</td>\n",
       "      <td>79.7</td>\n",
       "      <td>4.3</td>\n",
       "      <td>15.2</td>\n",
       "      <td>1.7</td>\n",
       "      <td>5.1</td>\n",
       "      <td>0.7</td>\n",
       "      <td>24</td>\n",
       "    </tr>\n",
       "    <tr>\n",
       "      <th>245</th>\n",
       "      <td>30</td>\n",
       "      <td>09</td>\n",
       "      <td>2012</td>\n",
       "      <td>64</td>\n",
       "      <td>15</td>\n",
       "      <td>0.2</td>\n",
       "      <td>67.3</td>\n",
       "      <td>3.8</td>\n",
       "      <td>16.5</td>\n",
       "      <td>1.2</td>\n",
       "      <td>4.8</td>\n",
       "      <td>0.5</td>\n",
       "      <td>24</td>\n",
       "    </tr>\n",
       "  </tbody>\n",
       "</table>\n",
       "<p>124 rows × 13 columns</p>\n",
       "</div>"
      ],
      "text/plain": [
       "     day  month  year   RH   Ws  Rain   FFMC  DMC    DC  ISI   BUI  FWI  \\\n",
       "121   30     09  2012   78   14    1.4    45  1.9   7.5  0.2   2.4  0.1   \n",
       "123  day  month  year   RH   Ws  Rain   FFMC  DMC    DC  ISI   BUI  FWI   \n",
       "124   01     06  2012   71   12    0.7  57.1  2.5   8.2  0.6   2.8  0.2   \n",
       "125   02     06  2012   73   13      4  55.7  2.7   7.8  0.6   2.9  0.2   \n",
       "126   03     06  2012   80   14      2  48.7  2.2   7.6  0.3   2.6  0.1   \n",
       "..   ...    ...   ...  ...  ...    ...   ...  ...   ...  ...   ...  ...   \n",
       "241   26     09  2012   65   14      0  85.4   16  44.5  4.5  16.9  6.5   \n",
       "242   27     09  2012   87   15    4.4  41.1  6.5     8  0.1   6.2    0   \n",
       "243   28     09  2012   87   29    0.5  45.9  3.5   7.9  0.4   3.4  0.2   \n",
       "244   29     09  2012   54   18    0.1  79.7  4.3  15.2  1.7   5.1  0.7   \n",
       "245   30     09  2012   64   15    0.2  67.3  3.8  16.5  1.2   4.8  0.5   \n",
       "\n",
       "    Temperature_Value  \n",
       "121                25  \n",
       "123       Temperature  \n",
       "124                32  \n",
       "125                30  \n",
       "126                29  \n",
       "..                ...  \n",
       "241                30  \n",
       "242                28  \n",
       "243                27  \n",
       "244                24  \n",
       "245                24  \n",
       "\n",
       "[124 rows x 13 columns]"
      ]
     },
     "execution_count": 117,
     "metadata": {},
     "output_type": "execute_result"
    }
   ],
   "source": [
    "df.iloc[121:]"
   ]
  },
  {
   "cell_type": "code",
   "execution_count": 118,
   "id": "093c3363",
   "metadata": {},
   "outputs": [],
   "source": [
    "#removing the row 123\n",
    "df.drop(123,inplace=True)"
   ]
  },
  {
   "cell_type": "code",
   "execution_count": 119,
   "id": "b0d845f4",
   "metadata": {},
   "outputs": [
    {
     "data": {
      "text/plain": [
       "Index(['day', 'month', 'year', ' RH', ' Ws', 'Rain ', 'FFMC', 'DMC', 'DC',\n",
       "       'ISI', 'BUI', 'FWI', 'Temperature_Value'],\n",
       "      dtype='object')"
      ]
     },
     "execution_count": 119,
     "metadata": {},
     "output_type": "execute_result"
    }
   ],
   "source": [
    "df.columns"
   ]
  },
  {
   "cell_type": "code",
   "execution_count": 120,
   "id": "902ef411",
   "metadata": {
    "scrolled": true
   },
   "outputs": [
    {
     "data": {
      "text/plain": [
       "Index(['day', 'month', 'year', 'RH', 'Ws', 'Rain', 'FFMC', 'DMC', 'DC', 'ISI',\n",
       "       'BUI', 'FWI', 'Temperature_Value'],\n",
       "      dtype='object')"
      ]
     },
     "execution_count": 120,
     "metadata": {},
     "output_type": "execute_result"
    }
   ],
   "source": [
    "df.columns=df.columns.str.strip()\n",
    "df.columns"
   ]
  },
  {
   "cell_type": "code",
   "execution_count": 135,
   "id": "99b66a03",
   "metadata": {},
   "outputs": [],
   "source": [
    "for i in df.columns:\n",
    "    df[i]=pd.to_numeric(df[i])"
   ]
  },
  {
   "cell_type": "code",
   "execution_count": 134,
   "id": "fc6c99b5",
   "metadata": {
    "scrolled": true
   },
   "outputs": [
    {
     "data": {
      "text/html": [
       "<div>\n",
       "<style scoped>\n",
       "    .dataframe tbody tr th:only-of-type {\n",
       "        vertical-align: middle;\n",
       "    }\n",
       "\n",
       "    .dataframe tbody tr th {\n",
       "        vertical-align: top;\n",
       "    }\n",
       "\n",
       "    .dataframe thead th {\n",
       "        text-align: right;\n",
       "    }\n",
       "</style>\n",
       "<table border=\"1\" class=\"dataframe\">\n",
       "  <thead>\n",
       "    <tr style=\"text-align: right;\">\n",
       "      <th></th>\n",
       "      <th>day</th>\n",
       "      <th>month</th>\n",
       "      <th>year</th>\n",
       "      <th>RH</th>\n",
       "      <th>Ws</th>\n",
       "      <th>Rain</th>\n",
       "      <th>FFMC</th>\n",
       "      <th>DMC</th>\n",
       "      <th>DC</th>\n",
       "      <th>ISI</th>\n",
       "      <th>BUI</th>\n",
       "      <th>FWI</th>\n",
       "      <th>Temperature_Value</th>\n",
       "    </tr>\n",
       "  </thead>\n",
       "  <tbody>\n",
       "    <tr>\n",
       "      <th>162</th>\n",
       "      <td>9</td>\n",
       "      <td>7</td>\n",
       "      <td>2012</td>\n",
       "      <td>43</td>\n",
       "      <td>15</td>\n",
       "      <td>1.9</td>\n",
       "      <td>82.3</td>\n",
       "      <td>9.4</td>\n",
       "      <td>9.9</td>\n",
       "      <td>3.2</td>\n",
       "      <td>9</td>\n",
       "      <td>3.1</td>\n",
       "      <td>36</td>\n",
       "    </tr>\n",
       "    <tr>\n",
       "      <th>163</th>\n",
       "      <td>10</td>\n",
       "      <td>7</td>\n",
       "      <td>2012</td>\n",
       "      <td>51</td>\n",
       "      <td>16</td>\n",
       "      <td>3.8</td>\n",
       "      <td>77.5</td>\n",
       "      <td>8.0</td>\n",
       "      <td>9.5</td>\n",
       "      <td>2</td>\n",
       "      <td>7.7</td>\n",
       "      <td>1.3</td>\n",
       "      <td>34</td>\n",
       "    </tr>\n",
       "    <tr>\n",
       "      <th>166</th>\n",
       "      <td>13</td>\n",
       "      <td>7</td>\n",
       "      <td>2012</td>\n",
       "      <td>45</td>\n",
       "      <td>13</td>\n",
       "      <td>0.6</td>\n",
       "      <td>85.2</td>\n",
       "      <td>11.3</td>\n",
       "      <td>10.4</td>\n",
       "      <td>4.2</td>\n",
       "      <td>10.9</td>\n",
       "      <td>4.7</td>\n",
       "      <td>39</td>\n",
       "    </tr>\n",
       "    <tr>\n",
       "      <th>168</th>\n",
       "      <td>15</td>\n",
       "      <td>7</td>\n",
       "      <td>2012</td>\n",
       "      <td>45</td>\n",
       "      <td>17</td>\n",
       "      <td>0.0</td>\n",
       "      <td>90.5</td>\n",
       "      <td>18.0</td>\n",
       "      <td>24.1</td>\n",
       "      <td>10.9</td>\n",
       "      <td>17.7</td>\n",
       "      <td>14.1</td>\n",
       "      <td>34</td>\n",
       "    </tr>\n",
       "    <tr>\n",
       "      <th>169</th>\n",
       "      <td>16</td>\n",
       "      <td>7</td>\n",
       "      <td>2012</td>\n",
       "      <td>83</td>\n",
       "      <td>17</td>\n",
       "      <td>0.0</td>\n",
       "      <td>84.5</td>\n",
       "      <td>19.4</td>\n",
       "      <td>33.1</td>\n",
       "      <td>4.7</td>\n",
       "      <td>19.2</td>\n",
       "      <td>7.3</td>\n",
       "      <td>31</td>\n",
       "    </tr>\n",
       "    <tr>\n",
       "      <th>170</th>\n",
       "      <td>17</td>\n",
       "      <td>7</td>\n",
       "      <td>2012</td>\n",
       "      <td>81</td>\n",
       "      <td>17</td>\n",
       "      <td>0.0</td>\n",
       "      <td>84.6</td>\n",
       "      <td>21.1</td>\n",
       "      <td>42.3</td>\n",
       "      <td>4.7</td>\n",
       "      <td>20.9</td>\n",
       "      <td>7.7</td>\n",
       "      <td>32</td>\n",
       "    </tr>\n",
       "  </tbody>\n",
       "</table>\n",
       "</div>"
      ],
      "text/plain": [
       "     day  month  year  RH  Ws  Rain  FFMC   DMC    DC   ISI   BUI   FWI  \\\n",
       "162    9      7  2012  43  15   1.9  82.3   9.4   9.9   3.2     9   3.1   \n",
       "163   10      7  2012  51  16   3.8  77.5   8.0   9.5     2   7.7   1.3   \n",
       "166   13      7  2012  45  13   0.6  85.2  11.3  10.4   4.2  10.9   4.7   \n",
       "168   15      7  2012  45  17   0.0  90.5  18.0  24.1  10.9  17.7  14.1   \n",
       "169   16      7  2012  83  17   0.0  84.5  19.4  33.1   4.7  19.2   7.3   \n",
       "170   17      7  2012  81  17   0.0  84.6  21.1  42.3   4.7  20.9   7.7   \n",
       "\n",
       "    Temperature_Value  \n",
       "162                36  \n",
       "163                34  \n",
       "166                39  \n",
       "168                34  \n",
       "169                31  \n",
       "170                32  "
      ]
     },
     "execution_count": 134,
     "metadata": {},
     "output_type": "execute_result"
    }
   ],
   "source": [
    "df.iloc[160:166]"
   ]
  },
  {
   "cell_type": "code",
   "execution_count": 133,
   "id": "ca9bd8f0",
   "metadata": {},
   "outputs": [],
   "source": [
    "df.drop(167,inplace=True)"
   ]
  },
  {
   "cell_type": "code",
   "execution_count": 123,
   "id": "c2b7a937",
   "metadata": {},
   "outputs": [
    {
     "data": {
      "text/plain": [
       "Index(['day', 'month', 'year', 'RH', 'Ws', 'Rain', 'FFMC', 'DMC', 'DC', 'ISI',\n",
       "       'BUI', 'FWI', 'Temperature_Value'],\n",
       "      dtype='object')"
      ]
     },
     "execution_count": 123,
     "metadata": {},
     "output_type": "execute_result"
    }
   ],
   "source": [
    "df.columns"
   ]
  },
  {
   "cell_type": "code",
   "execution_count": 139,
   "id": "da82368d",
   "metadata": {},
   "outputs": [],
   "source": [
    "df[['day', 'month', 'year']]=df[['day', 'month', 'year']].astype(int)"
   ]
  },
  {
   "cell_type": "code",
   "execution_count": 140,
   "id": "c5e0021e",
   "metadata": {},
   "outputs": [],
   "source": [
    "df[['RH', 'Ws', 'Rain', 'FFMC', 'DMC', 'DC', 'ISI',\n",
    "       'BUI', 'FWI', 'Temperature_Value']]=df[['RH', 'Ws', 'Rain', 'FFMC', 'DMC', 'DC', 'ISI',\n",
    "       'BUI', 'FWI', 'Temperature_Value']].astype(float)"
   ]
  },
  {
   "cell_type": "code",
   "execution_count": 141,
   "id": "489aa6bf",
   "metadata": {},
   "outputs": [
    {
     "name": "stdout",
     "output_type": "stream",
     "text": [
      "<class 'pandas.core.frame.DataFrame'>\n",
      "Int64Index: 241 entries, 0 to 245\n",
      "Data columns (total 13 columns):\n",
      " #   Column             Non-Null Count  Dtype  \n",
      "---  ------             --------------  -----  \n",
      " 0   day                241 non-null    int32  \n",
      " 1   month              241 non-null    int32  \n",
      " 2   year               241 non-null    int32  \n",
      " 3   RH                 241 non-null    float64\n",
      " 4   Ws                 241 non-null    float64\n",
      " 5   Rain               241 non-null    float64\n",
      " 6   FFMC               241 non-null    float64\n",
      " 7   DMC                241 non-null    float64\n",
      " 8   DC                 241 non-null    float64\n",
      " 9   ISI                241 non-null    float64\n",
      " 10  BUI                241 non-null    float64\n",
      " 11  FWI                241 non-null    float64\n",
      " 12  Temperature_Value  241 non-null    float64\n",
      "dtypes: float64(10), int32(3)\n",
      "memory usage: 23.5 KB\n"
     ]
    }
   ],
   "source": [
    "df.info()"
   ]
  },
  {
   "cell_type": "code",
   "execution_count": 143,
   "id": "12f40edc",
   "metadata": {},
   "outputs": [
    {
     "data": {
      "text/html": [
       "<div>\n",
       "<style scoped>\n",
       "    .dataframe tbody tr th:only-of-type {\n",
       "        vertical-align: middle;\n",
       "    }\n",
       "\n",
       "    .dataframe tbody tr th {\n",
       "        vertical-align: top;\n",
       "    }\n",
       "\n",
       "    .dataframe thead th {\n",
       "        text-align: right;\n",
       "    }\n",
       "</style>\n",
       "<table border=\"1\" class=\"dataframe\">\n",
       "  <thead>\n",
       "    <tr style=\"text-align: right;\">\n",
       "      <th></th>\n",
       "      <th>day</th>\n",
       "      <th>month</th>\n",
       "      <th>year</th>\n",
       "      <th>RH</th>\n",
       "      <th>Ws</th>\n",
       "      <th>Rain</th>\n",
       "      <th>FFMC</th>\n",
       "      <th>DMC</th>\n",
       "      <th>DC</th>\n",
       "      <th>ISI</th>\n",
       "      <th>BUI</th>\n",
       "      <th>FWI</th>\n",
       "      <th>Temperature_Value</th>\n",
       "    </tr>\n",
       "  </thead>\n",
       "  <tbody>\n",
       "    <tr>\n",
       "      <th>0</th>\n",
       "      <td>1</td>\n",
       "      <td>6</td>\n",
       "      <td>2012</td>\n",
       "      <td>57.0</td>\n",
       "      <td>18.0</td>\n",
       "      <td>0.0</td>\n",
       "      <td>65.7</td>\n",
       "      <td>3.4</td>\n",
       "      <td>7.6</td>\n",
       "      <td>1.3</td>\n",
       "      <td>3.4</td>\n",
       "      <td>0.5</td>\n",
       "      <td>29.0</td>\n",
       "    </tr>\n",
       "    <tr>\n",
       "      <th>1</th>\n",
       "      <td>2</td>\n",
       "      <td>6</td>\n",
       "      <td>2012</td>\n",
       "      <td>61.0</td>\n",
       "      <td>13.0</td>\n",
       "      <td>1.3</td>\n",
       "      <td>64.4</td>\n",
       "      <td>4.1</td>\n",
       "      <td>7.6</td>\n",
       "      <td>1.0</td>\n",
       "      <td>3.9</td>\n",
       "      <td>0.4</td>\n",
       "      <td>29.0</td>\n",
       "    </tr>\n",
       "    <tr>\n",
       "      <th>2</th>\n",
       "      <td>3</td>\n",
       "      <td>6</td>\n",
       "      <td>2012</td>\n",
       "      <td>82.0</td>\n",
       "      <td>22.0</td>\n",
       "      <td>13.1</td>\n",
       "      <td>47.1</td>\n",
       "      <td>2.5</td>\n",
       "      <td>7.1</td>\n",
       "      <td>0.3</td>\n",
       "      <td>2.7</td>\n",
       "      <td>0.1</td>\n",
       "      <td>26.0</td>\n",
       "    </tr>\n",
       "    <tr>\n",
       "      <th>3</th>\n",
       "      <td>4</td>\n",
       "      <td>6</td>\n",
       "      <td>2012</td>\n",
       "      <td>89.0</td>\n",
       "      <td>13.0</td>\n",
       "      <td>2.5</td>\n",
       "      <td>28.6</td>\n",
       "      <td>1.3</td>\n",
       "      <td>6.9</td>\n",
       "      <td>0.0</td>\n",
       "      <td>1.7</td>\n",
       "      <td>0.0</td>\n",
       "      <td>25.0</td>\n",
       "    </tr>\n",
       "    <tr>\n",
       "      <th>4</th>\n",
       "      <td>5</td>\n",
       "      <td>6</td>\n",
       "      <td>2012</td>\n",
       "      <td>77.0</td>\n",
       "      <td>16.0</td>\n",
       "      <td>0.0</td>\n",
       "      <td>64.8</td>\n",
       "      <td>3.0</td>\n",
       "      <td>14.2</td>\n",
       "      <td>1.2</td>\n",
       "      <td>3.9</td>\n",
       "      <td>0.5</td>\n",
       "      <td>27.0</td>\n",
       "    </tr>\n",
       "    <tr>\n",
       "      <th>...</th>\n",
       "      <td>...</td>\n",
       "      <td>...</td>\n",
       "      <td>...</td>\n",
       "      <td>...</td>\n",
       "      <td>...</td>\n",
       "      <td>...</td>\n",
       "      <td>...</td>\n",
       "      <td>...</td>\n",
       "      <td>...</td>\n",
       "      <td>...</td>\n",
       "      <td>...</td>\n",
       "      <td>...</td>\n",
       "      <td>...</td>\n",
       "    </tr>\n",
       "    <tr>\n",
       "      <th>241</th>\n",
       "      <td>26</td>\n",
       "      <td>9</td>\n",
       "      <td>2012</td>\n",
       "      <td>65.0</td>\n",
       "      <td>14.0</td>\n",
       "      <td>0.0</td>\n",
       "      <td>85.4</td>\n",
       "      <td>16.0</td>\n",
       "      <td>44.5</td>\n",
       "      <td>4.5</td>\n",
       "      <td>16.9</td>\n",
       "      <td>6.5</td>\n",
       "      <td>30.0</td>\n",
       "    </tr>\n",
       "    <tr>\n",
       "      <th>242</th>\n",
       "      <td>27</td>\n",
       "      <td>9</td>\n",
       "      <td>2012</td>\n",
       "      <td>87.0</td>\n",
       "      <td>15.0</td>\n",
       "      <td>4.4</td>\n",
       "      <td>41.1</td>\n",
       "      <td>6.5</td>\n",
       "      <td>8.0</td>\n",
       "      <td>0.1</td>\n",
       "      <td>6.2</td>\n",
       "      <td>0.0</td>\n",
       "      <td>28.0</td>\n",
       "    </tr>\n",
       "    <tr>\n",
       "      <th>243</th>\n",
       "      <td>28</td>\n",
       "      <td>9</td>\n",
       "      <td>2012</td>\n",
       "      <td>87.0</td>\n",
       "      <td>29.0</td>\n",
       "      <td>0.5</td>\n",
       "      <td>45.9</td>\n",
       "      <td>3.5</td>\n",
       "      <td>7.9</td>\n",
       "      <td>0.4</td>\n",
       "      <td>3.4</td>\n",
       "      <td>0.2</td>\n",
       "      <td>27.0</td>\n",
       "    </tr>\n",
       "    <tr>\n",
       "      <th>244</th>\n",
       "      <td>29</td>\n",
       "      <td>9</td>\n",
       "      <td>2012</td>\n",
       "      <td>54.0</td>\n",
       "      <td>18.0</td>\n",
       "      <td>0.1</td>\n",
       "      <td>79.7</td>\n",
       "      <td>4.3</td>\n",
       "      <td>15.2</td>\n",
       "      <td>1.7</td>\n",
       "      <td>5.1</td>\n",
       "      <td>0.7</td>\n",
       "      <td>24.0</td>\n",
       "    </tr>\n",
       "    <tr>\n",
       "      <th>245</th>\n",
       "      <td>30</td>\n",
       "      <td>9</td>\n",
       "      <td>2012</td>\n",
       "      <td>64.0</td>\n",
       "      <td>15.0</td>\n",
       "      <td>0.2</td>\n",
       "      <td>67.3</td>\n",
       "      <td>3.8</td>\n",
       "      <td>16.5</td>\n",
       "      <td>1.2</td>\n",
       "      <td>4.8</td>\n",
       "      <td>0.5</td>\n",
       "      <td>24.0</td>\n",
       "    </tr>\n",
       "  </tbody>\n",
       "</table>\n",
       "<p>241 rows × 13 columns</p>\n",
       "</div>"
      ],
      "text/plain": [
       "     day  month  year    RH    Ws  Rain  FFMC   DMC    DC  ISI   BUI  FWI  \\\n",
       "0      1      6  2012  57.0  18.0   0.0  65.7   3.4   7.6  1.3   3.4  0.5   \n",
       "1      2      6  2012  61.0  13.0   1.3  64.4   4.1   7.6  1.0   3.9  0.4   \n",
       "2      3      6  2012  82.0  22.0  13.1  47.1   2.5   7.1  0.3   2.7  0.1   \n",
       "3      4      6  2012  89.0  13.0   2.5  28.6   1.3   6.9  0.0   1.7  0.0   \n",
       "4      5      6  2012  77.0  16.0   0.0  64.8   3.0  14.2  1.2   3.9  0.5   \n",
       "..   ...    ...   ...   ...   ...   ...   ...   ...   ...  ...   ...  ...   \n",
       "241   26      9  2012  65.0  14.0   0.0  85.4  16.0  44.5  4.5  16.9  6.5   \n",
       "242   27      9  2012  87.0  15.0   4.4  41.1   6.5   8.0  0.1   6.2  0.0   \n",
       "243   28      9  2012  87.0  29.0   0.5  45.9   3.5   7.9  0.4   3.4  0.2   \n",
       "244   29      9  2012  54.0  18.0   0.1  79.7   4.3  15.2  1.7   5.1  0.7   \n",
       "245   30      9  2012  64.0  15.0   0.2  67.3   3.8  16.5  1.2   4.8  0.5   \n",
       "\n",
       "     Temperature_Value  \n",
       "0                 29.0  \n",
       "1                 29.0  \n",
       "2                 26.0  \n",
       "3                 25.0  \n",
       "4                 27.0  \n",
       "..                 ...  \n",
       "241               30.0  \n",
       "242               28.0  \n",
       "243               27.0  \n",
       "244               24.0  \n",
       "245               24.0  \n",
       "\n",
       "[241 rows x 13 columns]"
      ]
     },
     "execution_count": 143,
     "metadata": {},
     "output_type": "execute_result"
    }
   ],
   "source": [
    "df"
   ]
  },
  {
   "cell_type": "code",
   "execution_count": 144,
   "id": "16630da8",
   "metadata": {},
   "outputs": [
    {
     "data": {
      "text/html": [
       "<div>\n",
       "<style scoped>\n",
       "    .dataframe tbody tr th:only-of-type {\n",
       "        vertical-align: middle;\n",
       "    }\n",
       "\n",
       "    .dataframe tbody tr th {\n",
       "        vertical-align: top;\n",
       "    }\n",
       "\n",
       "    .dataframe thead th {\n",
       "        text-align: right;\n",
       "    }\n",
       "</style>\n",
       "<table border=\"1\" class=\"dataframe\">\n",
       "  <thead>\n",
       "    <tr style=\"text-align: right;\">\n",
       "      <th></th>\n",
       "      <th>day</th>\n",
       "      <th>month</th>\n",
       "      <th>year</th>\n",
       "      <th>RH</th>\n",
       "      <th>Ws</th>\n",
       "      <th>Rain</th>\n",
       "      <th>FFMC</th>\n",
       "      <th>DMC</th>\n",
       "      <th>DC</th>\n",
       "      <th>ISI</th>\n",
       "      <th>BUI</th>\n",
       "      <th>FWI</th>\n",
       "      <th>Temperature_Value</th>\n",
       "    </tr>\n",
       "  </thead>\n",
       "  <tbody>\n",
       "    <tr>\n",
       "      <th>day</th>\n",
       "      <td>1.000000</td>\n",
       "      <td>-0.002182</td>\n",
       "      <td>NaN</td>\n",
       "      <td>-0.079456</td>\n",
       "      <td>0.045968</td>\n",
       "      <td>-0.111212</td>\n",
       "      <td>0.226582</td>\n",
       "      <td>0.490737</td>\n",
       "      <td>0.526679</td>\n",
       "      <td>0.181033</td>\n",
       "      <td>0.516155</td>\n",
       "      <td>0.350453</td>\n",
       "      <td>0.100639</td>\n",
       "    </tr>\n",
       "    <tr>\n",
       "      <th>month</th>\n",
       "      <td>-0.002182</td>\n",
       "      <td>1.000000</td>\n",
       "      <td>NaN</td>\n",
       "      <td>-0.044489</td>\n",
       "      <td>-0.041981</td>\n",
       "      <td>0.036236</td>\n",
       "      <td>0.018280</td>\n",
       "      <td>0.066592</td>\n",
       "      <td>0.124146</td>\n",
       "      <td>0.066030</td>\n",
       "      <td>0.083385</td>\n",
       "      <td>0.081922</td>\n",
       "      <td>-0.054037</td>\n",
       "    </tr>\n",
       "    <tr>\n",
       "      <th>year</th>\n",
       "      <td>NaN</td>\n",
       "      <td>NaN</td>\n",
       "      <td>NaN</td>\n",
       "      <td>NaN</td>\n",
       "      <td>NaN</td>\n",
       "      <td>NaN</td>\n",
       "      <td>NaN</td>\n",
       "      <td>NaN</td>\n",
       "      <td>NaN</td>\n",
       "      <td>NaN</td>\n",
       "      <td>NaN</td>\n",
       "      <td>NaN</td>\n",
       "      <td>NaN</td>\n",
       "    </tr>\n",
       "    <tr>\n",
       "      <th>RH</th>\n",
       "      <td>-0.079456</td>\n",
       "      <td>-0.044489</td>\n",
       "      <td>NaN</td>\n",
       "      <td>1.000000</td>\n",
       "      <td>0.240496</td>\n",
       "      <td>0.223616</td>\n",
       "      <td>-0.644158</td>\n",
       "      <td>-0.412172</td>\n",
       "      <td>-0.232890</td>\n",
       "      <td>-0.687843</td>\n",
       "      <td>-0.358171</td>\n",
       "      <td>-0.583639</td>\n",
       "      <td>-0.649261</td>\n",
       "    </tr>\n",
       "    <tr>\n",
       "      <th>Ws</th>\n",
       "      <td>0.045968</td>\n",
       "      <td>-0.041981</td>\n",
       "      <td>NaN</td>\n",
       "      <td>0.240496</td>\n",
       "      <td>1.000000</td>\n",
       "      <td>0.171644</td>\n",
       "      <td>-0.164101</td>\n",
       "      <td>-0.001799</td>\n",
       "      <td>0.076495</td>\n",
       "      <td>0.011173</td>\n",
       "      <td>0.029923</td>\n",
       "      <td>0.033126</td>\n",
       "      <td>-0.281514</td>\n",
       "    </tr>\n",
       "    <tr>\n",
       "      <th>Rain</th>\n",
       "      <td>-0.111212</td>\n",
       "      <td>0.036236</td>\n",
       "      <td>NaN</td>\n",
       "      <td>0.223616</td>\n",
       "      <td>0.171644</td>\n",
       "      <td>1.000000</td>\n",
       "      <td>-0.543952</td>\n",
       "      <td>-0.287335</td>\n",
       "      <td>-0.296772</td>\n",
       "      <td>-0.344648</td>\n",
       "      <td>-0.298386</td>\n",
       "      <td>-0.321579</td>\n",
       "      <td>-0.328907</td>\n",
       "    </tr>\n",
       "    <tr>\n",
       "      <th>FFMC</th>\n",
       "      <td>0.226582</td>\n",
       "      <td>0.018280</td>\n",
       "      <td>NaN</td>\n",
       "      <td>-0.644158</td>\n",
       "      <td>-0.164101</td>\n",
       "      <td>-0.543952</td>\n",
       "      <td>1.000000</td>\n",
       "      <td>0.605150</td>\n",
       "      <td>0.510892</td>\n",
       "      <td>0.739502</td>\n",
       "      <td>0.594110</td>\n",
       "      <td>0.691470</td>\n",
       "      <td>0.676287</td>\n",
       "    </tr>\n",
       "    <tr>\n",
       "      <th>DMC</th>\n",
       "      <td>0.490737</td>\n",
       "      <td>0.066592</td>\n",
       "      <td>NaN</td>\n",
       "      <td>-0.412172</td>\n",
       "      <td>-0.001799</td>\n",
       "      <td>-0.287335</td>\n",
       "      <td>0.605150</td>\n",
       "      <td>1.000000</td>\n",
       "      <td>0.876089</td>\n",
       "      <td>0.681548</td>\n",
       "      <td>0.982261</td>\n",
       "      <td>0.876200</td>\n",
       "      <td>0.489552</td>\n",
       "    </tr>\n",
       "    <tr>\n",
       "      <th>DC</th>\n",
       "      <td>0.526679</td>\n",
       "      <td>0.124146</td>\n",
       "      <td>NaN</td>\n",
       "      <td>-0.232890</td>\n",
       "      <td>0.076495</td>\n",
       "      <td>-0.296772</td>\n",
       "      <td>0.510892</td>\n",
       "      <td>0.876089</td>\n",
       "      <td>1.000000</td>\n",
       "      <td>0.510804</td>\n",
       "      <td>0.942064</td>\n",
       "      <td>0.740457</td>\n",
       "      <td>0.382826</td>\n",
       "    </tr>\n",
       "    <tr>\n",
       "      <th>ISI</th>\n",
       "      <td>0.181033</td>\n",
       "      <td>0.066030</td>\n",
       "      <td>NaN</td>\n",
       "      <td>-0.687843</td>\n",
       "      <td>0.011173</td>\n",
       "      <td>-0.344648</td>\n",
       "      <td>0.739502</td>\n",
       "      <td>0.681548</td>\n",
       "      <td>0.510804</td>\n",
       "      <td>1.000000</td>\n",
       "      <td>0.645471</td>\n",
       "      <td>0.923115</td>\n",
       "      <td>0.605082</td>\n",
       "    </tr>\n",
       "    <tr>\n",
       "      <th>BUI</th>\n",
       "      <td>0.516155</td>\n",
       "      <td>0.083385</td>\n",
       "      <td>NaN</td>\n",
       "      <td>-0.358171</td>\n",
       "      <td>0.029923</td>\n",
       "      <td>-0.298386</td>\n",
       "      <td>0.594110</td>\n",
       "      <td>0.982261</td>\n",
       "      <td>0.942064</td>\n",
       "      <td>0.645471</td>\n",
       "      <td>1.000000</td>\n",
       "      <td>0.858453</td>\n",
       "      <td>0.464459</td>\n",
       "    </tr>\n",
       "    <tr>\n",
       "      <th>FWI</th>\n",
       "      <td>0.350453</td>\n",
       "      <td>0.081922</td>\n",
       "      <td>NaN</td>\n",
       "      <td>-0.583639</td>\n",
       "      <td>0.033126</td>\n",
       "      <td>-0.321579</td>\n",
       "      <td>0.691470</td>\n",
       "      <td>0.876200</td>\n",
       "      <td>0.740457</td>\n",
       "      <td>0.923115</td>\n",
       "      <td>0.858453</td>\n",
       "      <td>1.000000</td>\n",
       "      <td>0.569545</td>\n",
       "    </tr>\n",
       "    <tr>\n",
       "      <th>Temperature_Value</th>\n",
       "      <td>0.100639</td>\n",
       "      <td>-0.054037</td>\n",
       "      <td>NaN</td>\n",
       "      <td>-0.649261</td>\n",
       "      <td>-0.281514</td>\n",
       "      <td>-0.328907</td>\n",
       "      <td>0.676287</td>\n",
       "      <td>0.489552</td>\n",
       "      <td>0.382826</td>\n",
       "      <td>0.605082</td>\n",
       "      <td>0.464459</td>\n",
       "      <td>0.569545</td>\n",
       "      <td>1.000000</td>\n",
       "    </tr>\n",
       "  </tbody>\n",
       "</table>\n",
       "</div>"
      ],
      "text/plain": [
       "                        day     month  year        RH        Ws      Rain  \\\n",
       "day                1.000000 -0.002182   NaN -0.079456  0.045968 -0.111212   \n",
       "month             -0.002182  1.000000   NaN -0.044489 -0.041981  0.036236   \n",
       "year                    NaN       NaN   NaN       NaN       NaN       NaN   \n",
       "RH                -0.079456 -0.044489   NaN  1.000000  0.240496  0.223616   \n",
       "Ws                 0.045968 -0.041981   NaN  0.240496  1.000000  0.171644   \n",
       "Rain              -0.111212  0.036236   NaN  0.223616  0.171644  1.000000   \n",
       "FFMC               0.226582  0.018280   NaN -0.644158 -0.164101 -0.543952   \n",
       "DMC                0.490737  0.066592   NaN -0.412172 -0.001799 -0.287335   \n",
       "DC                 0.526679  0.124146   NaN -0.232890  0.076495 -0.296772   \n",
       "ISI                0.181033  0.066030   NaN -0.687843  0.011173 -0.344648   \n",
       "BUI                0.516155  0.083385   NaN -0.358171  0.029923 -0.298386   \n",
       "FWI                0.350453  0.081922   NaN -0.583639  0.033126 -0.321579   \n",
       "Temperature_Value  0.100639 -0.054037   NaN -0.649261 -0.281514 -0.328907   \n",
       "\n",
       "                       FFMC       DMC        DC       ISI       BUI       FWI  \\\n",
       "day                0.226582  0.490737  0.526679  0.181033  0.516155  0.350453   \n",
       "month              0.018280  0.066592  0.124146  0.066030  0.083385  0.081922   \n",
       "year                    NaN       NaN       NaN       NaN       NaN       NaN   \n",
       "RH                -0.644158 -0.412172 -0.232890 -0.687843 -0.358171 -0.583639   \n",
       "Ws                -0.164101 -0.001799  0.076495  0.011173  0.029923  0.033126   \n",
       "Rain              -0.543952 -0.287335 -0.296772 -0.344648 -0.298386 -0.321579   \n",
       "FFMC               1.000000  0.605150  0.510892  0.739502  0.594110  0.691470   \n",
       "DMC                0.605150  1.000000  0.876089  0.681548  0.982261  0.876200   \n",
       "DC                 0.510892  0.876089  1.000000  0.510804  0.942064  0.740457   \n",
       "ISI                0.739502  0.681548  0.510804  1.000000  0.645471  0.923115   \n",
       "BUI                0.594110  0.982261  0.942064  0.645471  1.000000  0.858453   \n",
       "FWI                0.691470  0.876200  0.740457  0.923115  0.858453  1.000000   \n",
       "Temperature_Value  0.676287  0.489552  0.382826  0.605082  0.464459  0.569545   \n",
       "\n",
       "                   Temperature_Value  \n",
       "day                         0.100639  \n",
       "month                      -0.054037  \n",
       "year                             NaN  \n",
       "RH                         -0.649261  \n",
       "Ws                         -0.281514  \n",
       "Rain                       -0.328907  \n",
       "FFMC                        0.676287  \n",
       "DMC                         0.489552  \n",
       "DC                          0.382826  \n",
       "ISI                         0.605082  \n",
       "BUI                         0.464459  \n",
       "FWI                         0.569545  \n",
       "Temperature_Value           1.000000  "
      ]
     },
     "execution_count": 144,
     "metadata": {},
     "output_type": "execute_result"
    }
   ],
   "source": [
    "df.corr()"
   ]
  },
  {
   "cell_type": "code",
   "execution_count": 145,
   "id": "80a8a513",
   "metadata": {},
   "outputs": [],
   "source": [
    "#droping the year column as the data is of the same year\n",
    "df.drop('year',axis=1,inplace=True)"
   ]
  },
  {
   "cell_type": "code",
   "execution_count": 146,
   "id": "3c6d5d35",
   "metadata": {},
   "outputs": [
    {
     "data": {
      "text/html": [
       "<div>\n",
       "<style scoped>\n",
       "    .dataframe tbody tr th:only-of-type {\n",
       "        vertical-align: middle;\n",
       "    }\n",
       "\n",
       "    .dataframe tbody tr th {\n",
       "        vertical-align: top;\n",
       "    }\n",
       "\n",
       "    .dataframe thead th {\n",
       "        text-align: right;\n",
       "    }\n",
       "</style>\n",
       "<table border=\"1\" class=\"dataframe\">\n",
       "  <thead>\n",
       "    <tr style=\"text-align: right;\">\n",
       "      <th></th>\n",
       "      <th>day</th>\n",
       "      <th>month</th>\n",
       "      <th>RH</th>\n",
       "      <th>Ws</th>\n",
       "      <th>Rain</th>\n",
       "      <th>FFMC</th>\n",
       "      <th>DMC</th>\n",
       "      <th>DC</th>\n",
       "      <th>ISI</th>\n",
       "      <th>BUI</th>\n",
       "      <th>FWI</th>\n",
       "      <th>Temperature_Value</th>\n",
       "    </tr>\n",
       "  </thead>\n",
       "  <tbody>\n",
       "    <tr>\n",
       "      <th>day</th>\n",
       "      <td>1.000000</td>\n",
       "      <td>-0.002182</td>\n",
       "      <td>-0.079456</td>\n",
       "      <td>0.045968</td>\n",
       "      <td>-0.111212</td>\n",
       "      <td>0.226582</td>\n",
       "      <td>0.490737</td>\n",
       "      <td>0.526679</td>\n",
       "      <td>0.181033</td>\n",
       "      <td>0.516155</td>\n",
       "      <td>0.350453</td>\n",
       "      <td>0.100639</td>\n",
       "    </tr>\n",
       "    <tr>\n",
       "      <th>month</th>\n",
       "      <td>-0.002182</td>\n",
       "      <td>1.000000</td>\n",
       "      <td>-0.044489</td>\n",
       "      <td>-0.041981</td>\n",
       "      <td>0.036236</td>\n",
       "      <td>0.018280</td>\n",
       "      <td>0.066592</td>\n",
       "      <td>0.124146</td>\n",
       "      <td>0.066030</td>\n",
       "      <td>0.083385</td>\n",
       "      <td>0.081922</td>\n",
       "      <td>-0.054037</td>\n",
       "    </tr>\n",
       "    <tr>\n",
       "      <th>RH</th>\n",
       "      <td>-0.079456</td>\n",
       "      <td>-0.044489</td>\n",
       "      <td>1.000000</td>\n",
       "      <td>0.240496</td>\n",
       "      <td>0.223616</td>\n",
       "      <td>-0.644158</td>\n",
       "      <td>-0.412172</td>\n",
       "      <td>-0.232890</td>\n",
       "      <td>-0.687843</td>\n",
       "      <td>-0.358171</td>\n",
       "      <td>-0.583639</td>\n",
       "      <td>-0.649261</td>\n",
       "    </tr>\n",
       "    <tr>\n",
       "      <th>Ws</th>\n",
       "      <td>0.045968</td>\n",
       "      <td>-0.041981</td>\n",
       "      <td>0.240496</td>\n",
       "      <td>1.000000</td>\n",
       "      <td>0.171644</td>\n",
       "      <td>-0.164101</td>\n",
       "      <td>-0.001799</td>\n",
       "      <td>0.076495</td>\n",
       "      <td>0.011173</td>\n",
       "      <td>0.029923</td>\n",
       "      <td>0.033126</td>\n",
       "      <td>-0.281514</td>\n",
       "    </tr>\n",
       "    <tr>\n",
       "      <th>Rain</th>\n",
       "      <td>-0.111212</td>\n",
       "      <td>0.036236</td>\n",
       "      <td>0.223616</td>\n",
       "      <td>0.171644</td>\n",
       "      <td>1.000000</td>\n",
       "      <td>-0.543952</td>\n",
       "      <td>-0.287335</td>\n",
       "      <td>-0.296772</td>\n",
       "      <td>-0.344648</td>\n",
       "      <td>-0.298386</td>\n",
       "      <td>-0.321579</td>\n",
       "      <td>-0.328907</td>\n",
       "    </tr>\n",
       "    <tr>\n",
       "      <th>FFMC</th>\n",
       "      <td>0.226582</td>\n",
       "      <td>0.018280</td>\n",
       "      <td>-0.644158</td>\n",
       "      <td>-0.164101</td>\n",
       "      <td>-0.543952</td>\n",
       "      <td>1.000000</td>\n",
       "      <td>0.605150</td>\n",
       "      <td>0.510892</td>\n",
       "      <td>0.739502</td>\n",
       "      <td>0.594110</td>\n",
       "      <td>0.691470</td>\n",
       "      <td>0.676287</td>\n",
       "    </tr>\n",
       "    <tr>\n",
       "      <th>DMC</th>\n",
       "      <td>0.490737</td>\n",
       "      <td>0.066592</td>\n",
       "      <td>-0.412172</td>\n",
       "      <td>-0.001799</td>\n",
       "      <td>-0.287335</td>\n",
       "      <td>0.605150</td>\n",
       "      <td>1.000000</td>\n",
       "      <td>0.876089</td>\n",
       "      <td>0.681548</td>\n",
       "      <td>0.982261</td>\n",
       "      <td>0.876200</td>\n",
       "      <td>0.489552</td>\n",
       "    </tr>\n",
       "    <tr>\n",
       "      <th>DC</th>\n",
       "      <td>0.526679</td>\n",
       "      <td>0.124146</td>\n",
       "      <td>-0.232890</td>\n",
       "      <td>0.076495</td>\n",
       "      <td>-0.296772</td>\n",
       "      <td>0.510892</td>\n",
       "      <td>0.876089</td>\n",
       "      <td>1.000000</td>\n",
       "      <td>0.510804</td>\n",
       "      <td>0.942064</td>\n",
       "      <td>0.740457</td>\n",
       "      <td>0.382826</td>\n",
       "    </tr>\n",
       "    <tr>\n",
       "      <th>ISI</th>\n",
       "      <td>0.181033</td>\n",
       "      <td>0.066030</td>\n",
       "      <td>-0.687843</td>\n",
       "      <td>0.011173</td>\n",
       "      <td>-0.344648</td>\n",
       "      <td>0.739502</td>\n",
       "      <td>0.681548</td>\n",
       "      <td>0.510804</td>\n",
       "      <td>1.000000</td>\n",
       "      <td>0.645471</td>\n",
       "      <td>0.923115</td>\n",
       "      <td>0.605082</td>\n",
       "    </tr>\n",
       "    <tr>\n",
       "      <th>BUI</th>\n",
       "      <td>0.516155</td>\n",
       "      <td>0.083385</td>\n",
       "      <td>-0.358171</td>\n",
       "      <td>0.029923</td>\n",
       "      <td>-0.298386</td>\n",
       "      <td>0.594110</td>\n",
       "      <td>0.982261</td>\n",
       "      <td>0.942064</td>\n",
       "      <td>0.645471</td>\n",
       "      <td>1.000000</td>\n",
       "      <td>0.858453</td>\n",
       "      <td>0.464459</td>\n",
       "    </tr>\n",
       "    <tr>\n",
       "      <th>FWI</th>\n",
       "      <td>0.350453</td>\n",
       "      <td>0.081922</td>\n",
       "      <td>-0.583639</td>\n",
       "      <td>0.033126</td>\n",
       "      <td>-0.321579</td>\n",
       "      <td>0.691470</td>\n",
       "      <td>0.876200</td>\n",
       "      <td>0.740457</td>\n",
       "      <td>0.923115</td>\n",
       "      <td>0.858453</td>\n",
       "      <td>1.000000</td>\n",
       "      <td>0.569545</td>\n",
       "    </tr>\n",
       "    <tr>\n",
       "      <th>Temperature_Value</th>\n",
       "      <td>0.100639</td>\n",
       "      <td>-0.054037</td>\n",
       "      <td>-0.649261</td>\n",
       "      <td>-0.281514</td>\n",
       "      <td>-0.328907</td>\n",
       "      <td>0.676287</td>\n",
       "      <td>0.489552</td>\n",
       "      <td>0.382826</td>\n",
       "      <td>0.605082</td>\n",
       "      <td>0.464459</td>\n",
       "      <td>0.569545</td>\n",
       "      <td>1.000000</td>\n",
       "    </tr>\n",
       "  </tbody>\n",
       "</table>\n",
       "</div>"
      ],
      "text/plain": [
       "                        day     month        RH        Ws      Rain      FFMC  \\\n",
       "day                1.000000 -0.002182 -0.079456  0.045968 -0.111212  0.226582   \n",
       "month             -0.002182  1.000000 -0.044489 -0.041981  0.036236  0.018280   \n",
       "RH                -0.079456 -0.044489  1.000000  0.240496  0.223616 -0.644158   \n",
       "Ws                 0.045968 -0.041981  0.240496  1.000000  0.171644 -0.164101   \n",
       "Rain              -0.111212  0.036236  0.223616  0.171644  1.000000 -0.543952   \n",
       "FFMC               0.226582  0.018280 -0.644158 -0.164101 -0.543952  1.000000   \n",
       "DMC                0.490737  0.066592 -0.412172 -0.001799 -0.287335  0.605150   \n",
       "DC                 0.526679  0.124146 -0.232890  0.076495 -0.296772  0.510892   \n",
       "ISI                0.181033  0.066030 -0.687843  0.011173 -0.344648  0.739502   \n",
       "BUI                0.516155  0.083385 -0.358171  0.029923 -0.298386  0.594110   \n",
       "FWI                0.350453  0.081922 -0.583639  0.033126 -0.321579  0.691470   \n",
       "Temperature_Value  0.100639 -0.054037 -0.649261 -0.281514 -0.328907  0.676287   \n",
       "\n",
       "                        DMC        DC       ISI       BUI       FWI  \\\n",
       "day                0.490737  0.526679  0.181033  0.516155  0.350453   \n",
       "month              0.066592  0.124146  0.066030  0.083385  0.081922   \n",
       "RH                -0.412172 -0.232890 -0.687843 -0.358171 -0.583639   \n",
       "Ws                -0.001799  0.076495  0.011173  0.029923  0.033126   \n",
       "Rain              -0.287335 -0.296772 -0.344648 -0.298386 -0.321579   \n",
       "FFMC               0.605150  0.510892  0.739502  0.594110  0.691470   \n",
       "DMC                1.000000  0.876089  0.681548  0.982261  0.876200   \n",
       "DC                 0.876089  1.000000  0.510804  0.942064  0.740457   \n",
       "ISI                0.681548  0.510804  1.000000  0.645471  0.923115   \n",
       "BUI                0.982261  0.942064  0.645471  1.000000  0.858453   \n",
       "FWI                0.876200  0.740457  0.923115  0.858453  1.000000   \n",
       "Temperature_Value  0.489552  0.382826  0.605082  0.464459  0.569545   \n",
       "\n",
       "                   Temperature_Value  \n",
       "day                         0.100639  \n",
       "month                      -0.054037  \n",
       "RH                         -0.649261  \n",
       "Ws                         -0.281514  \n",
       "Rain                       -0.328907  \n",
       "FFMC                        0.676287  \n",
       "DMC                         0.489552  \n",
       "DC                          0.382826  \n",
       "ISI                         0.605082  \n",
       "BUI                         0.464459  \n",
       "FWI                         0.569545  \n",
       "Temperature_Value           1.000000  "
      ]
     },
     "execution_count": 146,
     "metadata": {},
     "output_type": "execute_result"
    }
   ],
   "source": [
    "df.corr()"
   ]
  },
  {
   "cell_type": "code",
   "execution_count": 147,
   "id": "23757b95",
   "metadata": {},
   "outputs": [
    {
     "data": {
      "text/plain": [
       "<seaborn.axisgrid.PairGrid at 0x1994b898fa0>"
      ]
     },
     "execution_count": 147,
     "metadata": {},
     "output_type": "execute_result"
    },
    {
     "data": {
      "image/png": "[encoded data removed]",
      "text/plain": [
       "<Figure size 2160x2160 with 156 Axes>"
      ]
     },
     "metadata": {
      "needs_background": "light"
     },
     "output_type": "display_data"
    }
   ],
   "source": [
    "sns.pairplot(df.corr())"
   ]
  },
  {
   "cell_type": "code",
   "execution_count": 150,
   "id": "caca2b57",
   "metadata": {},
   "outputs": [
    {
     "data": {
      "text/plain": [
       "<AxesSubplot:>"
      ]
     },
     "execution_count": 150,
     "metadata": {},
     "output_type": "execute_result"
    },
    {
     "data": {
      "image/png": "[encoded data removed]",
      "text/plain": [
       "<Figure size 1080x576 with 2 Axes>"
      ]
     },
     "metadata": {},
     "output_type": "display_data"
    }
   ],
   "source": [
    "sns.set(rc={'figure.figsize':(15,8)})\n",
    "sns.heatmap(df.corr(),annot=True)"
   ]
  },
  {
   "cell_type": "code",
   "execution_count": 151,
   "id": "d06ac4aa",
   "metadata": {},
   "outputs": [
    {
     "name": "stderr",
     "output_type": "stream",
     "text": [
      "C:\\Users\\Govardhan\\anaconda3\\lib\\site-packages\\seaborn\\_decorators.py:36: FutureWarning: Pass the following variables as keyword args: x, y. From version 0.12, the only valid positional argument will be `data`, and passing other arguments without an explicit keyword will result in an error or misinterpretation.\n",
      "  warnings.warn(\n"
     ]
    },
    {
     "data": {
      "text/plain": [
       "<AxesSubplot:xlabel='DMC', ylabel='BUI'>"
      ]
     },
     "execution_count": 151,
     "metadata": {},
     "output_type": "execute_result"
    },
    {
     "data": {
      "image/png": "[encoded data removed]",
      "text/plain": [
       "<Figure size 1080x576 with 1 Axes>"
      ]
     },
     "metadata": {},
     "output_type": "display_data"
    }
   ],
   "source": [
    "sns.scatterplot(df['DMC'],df['BUI'])"
   ]
  },
  {
   "cell_type": "code",
   "execution_count": 152,
   "id": "d2eed490",
   "metadata": {},
   "outputs": [
    {
     "name": "stderr",
     "output_type": "stream",
     "text": [
      "C:\\Users\\Govardhan\\anaconda3\\lib\\site-packages\\seaborn\\_decorators.py:36: FutureWarning: Pass the following variables as keyword args: x, y. From version 0.12, the only valid positional argument will be `data`, and passing other arguments without an explicit keyword will result in an error or misinterpretation.\n",
      "  warnings.warn(\n"
     ]
    },
    {
     "data": {
      "text/plain": [
       "<AxesSubplot:xlabel='BUI', ylabel='DC'>"
      ]
     },
     "execution_count": 152,
     "metadata": {},
     "output_type": "execute_result"
    },
    {
     "data": {
      "image/png": "[encoded data removed]",
      "text/plain": [
       "<Figure size 1080x576 with 1 Axes>"
      ]
     },
     "metadata": {},
     "output_type": "display_data"
    }
   ],
   "source": [
    "sns.scatterplot(df['BUI'],df['DC'])"
   ]
  },
  {
   "cell_type": "code",
   "execution_count": 153,
   "id": "821d5fdf",
   "metadata": {},
   "outputs": [
    {
     "name": "stderr",
     "output_type": "stream",
     "text": [
      "C:\\Users\\Govardhan\\anaconda3\\lib\\site-packages\\seaborn\\_decorators.py:36: FutureWarning: Pass the following variables as keyword args: x, y. From version 0.12, the only valid positional argument will be `data`, and passing other arguments without an explicit keyword will result in an error or misinterpretation.\n",
      "  warnings.warn(\n"
     ]
    },
    {
     "data": {
      "text/plain": [
       "<AxesSubplot:xlabel='DMC', ylabel='BUI'>"
      ]
     },
     "execution_count": 153,
     "metadata": {},
     "output_type": "execute_result"
    },
    {
     "data": {
      "image/png": "[encoded data removed]",
      "text/plain": [
       "<Figure size 1080x576 with 1 Axes>"
      ]
     },
     "metadata": {},
     "output_type": "display_data"
    }
   ],
   "source": [
    "sns.regplot(df['DMC'],df['BUI'])"
   ]
  },
  {
   "cell_type": "code",
   "execution_count": 154,
   "id": "1e804038",
   "metadata": {},
   "outputs": [
    {
     "name": "stderr",
     "output_type": "stream",
     "text": [
      "C:\\Users\\Govardhan\\anaconda3\\lib\\site-packages\\seaborn\\_decorators.py:36: FutureWarning: Pass the following variable as a keyword arg: x. From version 0.12, the only valid positional argument will be `data`, and passing other arguments without an explicit keyword will result in an error or misinterpretation.\n",
      "  warnings.warn(\n"
     ]
    },
    {
     "data": {
      "text/plain": [
       "<AxesSubplot:xlabel='BUI'>"
      ]
     },
     "execution_count": 154,
     "metadata": {},
     "output_type": "execute_result"
    },
    {
     "data": {
      "image/png": "[encoded data removed]",
      "text/plain": [
       "<Figure size 1080x576 with 1 Axes>"
      ]
     },
     "metadata": {},
     "output_type": "display_data"
    }
   ],
   "source": [
    "sns.boxplot(df['BUI'])"
   ]
  },
  {
   "cell_type": "code",
   "execution_count": 155,
   "id": "7c753811",
   "metadata": {},
   "outputs": [
    {
     "name": "stderr",
     "output_type": "stream",
     "text": [
      "C:\\Users\\Govardhan\\anaconda3\\lib\\site-packages\\seaborn\\_decorators.py:36: FutureWarning: Pass the following variable as a keyword arg: x. From version 0.12, the only valid positional argument will be `data`, and passing other arguments without an explicit keyword will result in an error or misinterpretation.\n",
      "  warnings.warn(\n"
     ]
    },
    {
     "data": {
      "text/plain": [
       "<AxesSubplot:xlabel='DMC'>"
      ]
     },
     "execution_count": 155,
     "metadata": {},
     "output_type": "execute_result"
    },
    {
     "data": {
      "image/png": "[encoded data removed]",
      "text/plain": [
       "<Figure size 1080x576 with 1 Axes>"
      ]
     },
     "metadata": {},
     "output_type": "display_data"
    }
   ],
   "source": [
    "sns.boxplot(df['DMC'])"
   ]
  },
  {
   "cell_type": "code",
   "execution_count": 156,
   "id": "b04d5d17",
   "metadata": {},
   "outputs": [
    {
     "name": "stderr",
     "output_type": "stream",
     "text": [
      "C:\\Users\\Govardhan\\anaconda3\\lib\\site-packages\\seaborn\\_decorators.py:36: FutureWarning: Pass the following variable as a keyword arg: x. From version 0.12, the only valid positional argument will be `data`, and passing other arguments without an explicit keyword will result in an error or misinterpretation.\n",
      "  warnings.warn(\n"
     ]
    },
    {
     "data": {
      "text/plain": [
       "<AxesSubplot:xlabel='DC'>"
      ]
     },
     "execution_count": 156,
     "metadata": {},
     "output_type": "execute_result"
    },
    {
     "data": {
      "image/png": "[encoded data removed]",
      "text/plain": [
       "<Figure size 1080x576 with 1 Axes>"
      ]
     },
     "metadata": {},
     "output_type": "display_data"
    }
   ],
   "source": [
    "sns.boxplot(df[\"DC\"])"
   ]
  },
  {
   "cell_type": "code",
   "execution_count": 159,
   "id": "597f8c5d",
   "metadata": {},
   "outputs": [
    {
     "name": "stderr",
     "output_type": "stream",
     "text": [
      "C:\\Users\\Govardhan\\anaconda3\\lib\\site-packages\\seaborn\\_decorators.py:36: FutureWarning: Pass the following variable as a keyword arg: x. From version 0.12, the only valid positional argument will be `data`, and passing other arguments without an explicit keyword will result in an error or misinterpretation.\n",
      "  warnings.warn(\n"
     ]
    },
    {
     "data": {
      "text/plain": [
       "<AxesSubplot:xlabel='Temperature_Value'>"
      ]
     },
     "execution_count": 159,
     "metadata": {},
     "output_type": "execute_result"
    },
    {
     "data": {
      "image/png": "[encoded data removed]",
      "text/plain": [
       "<Figure size 1080x576 with 1 Axes>"
      ]
     },
     "metadata": {},
     "output_type": "display_data"
    }
   ],
   "source": [
    "sns.boxplot(df['Temperature_Value'])"
   ]
  },
  {
   "cell_type": "code",
   "execution_count": 160,
   "id": "87814fff",
   "metadata": {},
   "outputs": [],
   "source": [
    "x=df.iloc[:,:-1]\n",
    "y=df.iloc[:,-1]"
   ]
  },
  {
   "cell_type": "code",
   "execution_count": 161,
   "id": "8f0ae991",
   "metadata": {},
   "outputs": [
    {
     "data": {
      "text/html": [
       "<div>\n",
       "<style scoped>\n",
       "    .dataframe tbody tr th:only-of-type {\n",
       "        vertical-align: middle;\n",
       "    }\n",
       "\n",
       "    .dataframe tbody tr th {\n",
       "        vertical-align: top;\n",
       "    }\n",
       "\n",
       "    .dataframe thead th {\n",
       "        text-align: right;\n",
       "    }\n",
       "</style>\n",
       "<table border=\"1\" class=\"dataframe\">\n",
       "  <thead>\n",
       "    <tr style=\"text-align: right;\">\n",
       "      <th></th>\n",
       "      <th>day</th>\n",
       "      <th>month</th>\n",
       "      <th>RH</th>\n",
       "      <th>Ws</th>\n",
       "      <th>Rain</th>\n",
       "      <th>FFMC</th>\n",
       "      <th>DMC</th>\n",
       "      <th>DC</th>\n",
       "      <th>ISI</th>\n",
       "      <th>BUI</th>\n",
       "      <th>FWI</th>\n",
       "    </tr>\n",
       "  </thead>\n",
       "  <tbody>\n",
       "    <tr>\n",
       "      <th>0</th>\n",
       "      <td>1</td>\n",
       "      <td>6</td>\n",
       "      <td>57.0</td>\n",
       "      <td>18.0</td>\n",
       "      <td>0.0</td>\n",
       "      <td>65.7</td>\n",
       "      <td>3.4</td>\n",
       "      <td>7.6</td>\n",
       "      <td>1.3</td>\n",
       "      <td>3.4</td>\n",
       "      <td>0.5</td>\n",
       "    </tr>\n",
       "    <tr>\n",
       "      <th>1</th>\n",
       "      <td>2</td>\n",
       "      <td>6</td>\n",
       "      <td>61.0</td>\n",
       "      <td>13.0</td>\n",
       "      <td>1.3</td>\n",
       "      <td>64.4</td>\n",
       "      <td>4.1</td>\n",
       "      <td>7.6</td>\n",
       "      <td>1.0</td>\n",
       "      <td>3.9</td>\n",
       "      <td>0.4</td>\n",
       "    </tr>\n",
       "    <tr>\n",
       "      <th>2</th>\n",
       "      <td>3</td>\n",
       "      <td>6</td>\n",
       "      <td>82.0</td>\n",
       "      <td>22.0</td>\n",
       "      <td>13.1</td>\n",
       "      <td>47.1</td>\n",
       "      <td>2.5</td>\n",
       "      <td>7.1</td>\n",
       "      <td>0.3</td>\n",
       "      <td>2.7</td>\n",
       "      <td>0.1</td>\n",
       "    </tr>\n",
       "    <tr>\n",
       "      <th>3</th>\n",
       "      <td>4</td>\n",
       "      <td>6</td>\n",
       "      <td>89.0</td>\n",
       "      <td>13.0</td>\n",
       "      <td>2.5</td>\n",
       "      <td>28.6</td>\n",
       "      <td>1.3</td>\n",
       "      <td>6.9</td>\n",
       "      <td>0.0</td>\n",
       "      <td>1.7</td>\n",
       "      <td>0.0</td>\n",
       "    </tr>\n",
       "    <tr>\n",
       "      <th>4</th>\n",
       "      <td>5</td>\n",
       "      <td>6</td>\n",
       "      <td>77.0</td>\n",
       "      <td>16.0</td>\n",
       "      <td>0.0</td>\n",
       "      <td>64.8</td>\n",
       "      <td>3.0</td>\n",
       "      <td>14.2</td>\n",
       "      <td>1.2</td>\n",
       "      <td>3.9</td>\n",
       "      <td>0.5</td>\n",
       "    </tr>\n",
       "    <tr>\n",
       "      <th>...</th>\n",
       "      <td>...</td>\n",
       "      <td>...</td>\n",
       "      <td>...</td>\n",
       "      <td>...</td>\n",
       "      <td>...</td>\n",
       "      <td>...</td>\n",
       "      <td>...</td>\n",
       "      <td>...</td>\n",
       "      <td>...</td>\n",
       "      <td>...</td>\n",
       "      <td>...</td>\n",
       "    </tr>\n",
       "    <tr>\n",
       "      <th>241</th>\n",
       "      <td>26</td>\n",
       "      <td>9</td>\n",
       "      <td>65.0</td>\n",
       "      <td>14.0</td>\n",
       "      <td>0.0</td>\n",
       "      <td>85.4</td>\n",
       "      <td>16.0</td>\n",
       "      <td>44.5</td>\n",
       "      <td>4.5</td>\n",
       "      <td>16.9</td>\n",
       "      <td>6.5</td>\n",
       "    </tr>\n",
       "    <tr>\n",
       "      <th>242</th>\n",
       "      <td>27</td>\n",
       "      <td>9</td>\n",
       "      <td>87.0</td>\n",
       "      <td>15.0</td>\n",
       "      <td>4.4</td>\n",
       "      <td>41.1</td>\n",
       "      <td>6.5</td>\n",
       "      <td>8.0</td>\n",
       "      <td>0.1</td>\n",
       "      <td>6.2</td>\n",
       "      <td>0.0</td>\n",
       "    </tr>\n",
       "    <tr>\n",
       "      <th>243</th>\n",
       "      <td>28</td>\n",
       "      <td>9</td>\n",
       "      <td>87.0</td>\n",
       "      <td>29.0</td>\n",
       "      <td>0.5</td>\n",
       "      <td>45.9</td>\n",
       "      <td>3.5</td>\n",
       "      <td>7.9</td>\n",
       "      <td>0.4</td>\n",
       "      <td>3.4</td>\n",
       "      <td>0.2</td>\n",
       "    </tr>\n",
       "    <tr>\n",
       "      <th>244</th>\n",
       "      <td>29</td>\n",
       "      <td>9</td>\n",
       "      <td>54.0</td>\n",
       "      <td>18.0</td>\n",
       "      <td>0.1</td>\n",
       "      <td>79.7</td>\n",
       "      <td>4.3</td>\n",
       "      <td>15.2</td>\n",
       "      <td>1.7</td>\n",
       "      <td>5.1</td>\n",
       "      <td>0.7</td>\n",
       "    </tr>\n",
       "    <tr>\n",
       "      <th>245</th>\n",
       "      <td>30</td>\n",
       "      <td>9</td>\n",
       "      <td>64.0</td>\n",
       "      <td>15.0</td>\n",
       "      <td>0.2</td>\n",
       "      <td>67.3</td>\n",
       "      <td>3.8</td>\n",
       "      <td>16.5</td>\n",
       "      <td>1.2</td>\n",
       "      <td>4.8</td>\n",
       "      <td>0.5</td>\n",
       "    </tr>\n",
       "  </tbody>\n",
       "</table>\n",
       "<p>241 rows × 11 columns</p>\n",
       "</div>"
      ],
      "text/plain": [
       "     day  month    RH    Ws  Rain  FFMC   DMC    DC  ISI   BUI  FWI\n",
       "0      1      6  57.0  18.0   0.0  65.7   3.4   7.6  1.3   3.4  0.5\n",
       "1      2      6  61.0  13.0   1.3  64.4   4.1   7.6  1.0   3.9  0.4\n",
       "2      3      6  82.0  22.0  13.1  47.1   2.5   7.1  0.3   2.7  0.1\n",
       "3      4      6  89.0  13.0   2.5  28.6   1.3   6.9  0.0   1.7  0.0\n",
       "4      5      6  77.0  16.0   0.0  64.8   3.0  14.2  1.2   3.9  0.5\n",
       "..   ...    ...   ...   ...   ...   ...   ...   ...  ...   ...  ...\n",
       "241   26      9  65.0  14.0   0.0  85.4  16.0  44.5  4.5  16.9  6.5\n",
       "242   27      9  87.0  15.0   4.4  41.1   6.5   8.0  0.1   6.2  0.0\n",
       "243   28      9  87.0  29.0   0.5  45.9   3.5   7.9  0.4   3.4  0.2\n",
       "244   29      9  54.0  18.0   0.1  79.7   4.3  15.2  1.7   5.1  0.7\n",
       "245   30      9  64.0  15.0   0.2  67.3   3.8  16.5  1.2   4.8  0.5\n",
       "\n",
       "[241 rows x 11 columns]"
      ]
     },
     "execution_count": 161,
     "metadata": {},
     "output_type": "execute_result"
    }
   ],
   "source": [
    "x"
   ]
  },
  {
   "cell_type": "code",
   "execution_count": 162,
   "id": "2f6d5efb",
   "metadata": {},
   "outputs": [
    {
     "data": {
      "text/plain": [
       "0      29.0\n",
       "1      29.0\n",
       "2      26.0\n",
       "3      25.0\n",
       "4      27.0\n",
       "       ... \n",
       "241    30.0\n",
       "242    28.0\n",
       "243    27.0\n",
       "244    24.0\n",
       "245    24.0\n",
       "Name: Temperature_Value, Length: 241, dtype: float64"
      ]
     },
     "execution_count": 162,
     "metadata": {},
     "output_type": "execute_result"
    }
   ],
   "source": [
    "y"
   ]
  },
  {
   "cell_type": "code",
   "execution_count": 177,
   "id": "04644ebc",
   "metadata": {},
   "outputs": [],
   "source": [
    "from sklearn.model_selection import train_test_split\n",
    "x_train,x_test,y_train,y_test=train_test_split(x,y,test_size=0.33,random_state=42)"
   ]
  },
  {
   "cell_type": "code",
   "execution_count": 178,
   "id": "d4ec41c0",
   "metadata": {},
   "outputs": [
    {
     "data": {
      "text/html": [
       "<div>\n",
       "<style scoped>\n",
       "    .dataframe tbody tr th:only-of-type {\n",
       "        vertical-align: middle;\n",
       "    }\n",
       "\n",
       "    .dataframe tbody tr th {\n",
       "        vertical-align: top;\n",
       "    }\n",
       "\n",
       "    .dataframe thead th {\n",
       "        text-align: right;\n",
       "    }\n",
       "</style>\n",
       "<table border=\"1\" class=\"dataframe\">\n",
       "  <thead>\n",
       "    <tr style=\"text-align: right;\">\n",
       "      <th></th>\n",
       "      <th>day</th>\n",
       "      <th>month</th>\n",
       "      <th>RH</th>\n",
       "      <th>Ws</th>\n",
       "      <th>Rain</th>\n",
       "      <th>FFMC</th>\n",
       "      <th>DMC</th>\n",
       "      <th>DC</th>\n",
       "      <th>ISI</th>\n",
       "      <th>BUI</th>\n",
       "      <th>FWI</th>\n",
       "    </tr>\n",
       "  </thead>\n",
       "  <tbody>\n",
       "    <tr>\n",
       "      <th>148</th>\n",
       "      <td>25</td>\n",
       "      <td>6</td>\n",
       "      <td>70.0</td>\n",
       "      <td>16.0</td>\n",
       "      <td>0.0</td>\n",
       "      <td>86.0</td>\n",
       "      <td>12.8</td>\n",
       "      <td>25.6</td>\n",
       "      <td>5.4</td>\n",
       "      <td>12.7</td>\n",
       "      <td>6.7</td>\n",
       "    </tr>\n",
       "    <tr>\n",
       "      <th>229</th>\n",
       "      <td>14</td>\n",
       "      <td>9</td>\n",
       "      <td>81.0</td>\n",
       "      <td>15.0</td>\n",
       "      <td>0.0</td>\n",
       "      <td>84.6</td>\n",
       "      <td>12.6</td>\n",
       "      <td>41.5</td>\n",
       "      <td>4.3</td>\n",
       "      <td>14.3</td>\n",
       "      <td>5.7</td>\n",
       "    </tr>\n",
       "    <tr>\n",
       "      <th>65</th>\n",
       "      <td>5</td>\n",
       "      <td>8</td>\n",
       "      <td>65.0</td>\n",
       "      <td>13.0</td>\n",
       "      <td>0.0</td>\n",
       "      <td>86.8</td>\n",
       "      <td>11.1</td>\n",
       "      <td>29.7</td>\n",
       "      <td>5.2</td>\n",
       "      <td>11.5</td>\n",
       "      <td>6.1</td>\n",
       "    </tr>\n",
       "    <tr>\n",
       "      <th>172</th>\n",
       "      <td>19</td>\n",
       "      <td>7</td>\n",
       "      <td>58.0</td>\n",
       "      <td>16.0</td>\n",
       "      <td>0.0</td>\n",
       "      <td>88.1</td>\n",
       "      <td>27.8</td>\n",
       "      <td>61.1</td>\n",
       "      <td>7.3</td>\n",
       "      <td>27.7</td>\n",
       "      <td>13.0</td>\n",
       "    </tr>\n",
       "    <tr>\n",
       "      <th>209</th>\n",
       "      <td>25</td>\n",
       "      <td>8</td>\n",
       "      <td>40.0</td>\n",
       "      <td>18.0</td>\n",
       "      <td>0.0</td>\n",
       "      <td>92.1</td>\n",
       "      <td>56.3</td>\n",
       "      <td>157.5</td>\n",
       "      <td>14.3</td>\n",
       "      <td>59.5</td>\n",
       "      <td>31.1</td>\n",
       "    </tr>\n",
       "    <tr>\n",
       "      <th>...</th>\n",
       "      <td>...</td>\n",
       "      <td>...</td>\n",
       "      <td>...</td>\n",
       "      <td>...</td>\n",
       "      <td>...</td>\n",
       "      <td>...</td>\n",
       "      <td>...</td>\n",
       "      <td>...</td>\n",
       "      <td>...</td>\n",
       "      <td>...</td>\n",
       "      <td>...</td>\n",
       "    </tr>\n",
       "    <tr>\n",
       "      <th>106</th>\n",
       "      <td>15</td>\n",
       "      <td>9</td>\n",
       "      <td>82.0</td>\n",
       "      <td>15.0</td>\n",
       "      <td>0.4</td>\n",
       "      <td>44.9</td>\n",
       "      <td>0.9</td>\n",
       "      <td>7.3</td>\n",
       "      <td>0.2</td>\n",
       "      <td>1.4</td>\n",
       "      <td>0.0</td>\n",
       "    </tr>\n",
       "    <tr>\n",
       "      <th>14</th>\n",
       "      <td>15</td>\n",
       "      <td>6</td>\n",
       "      <td>80.0</td>\n",
       "      <td>17.0</td>\n",
       "      <td>3.1</td>\n",
       "      <td>49.4</td>\n",
       "      <td>3.0</td>\n",
       "      <td>7.4</td>\n",
       "      <td>0.4</td>\n",
       "      <td>3.0</td>\n",
       "      <td>0.1</td>\n",
       "    </tr>\n",
       "    <tr>\n",
       "      <th>92</th>\n",
       "      <td>1</td>\n",
       "      <td>9</td>\n",
       "      <td>76.0</td>\n",
       "      <td>17.0</td>\n",
       "      <td>7.2</td>\n",
       "      <td>46.0</td>\n",
       "      <td>1.3</td>\n",
       "      <td>7.5</td>\n",
       "      <td>0.2</td>\n",
       "      <td>1.8</td>\n",
       "      <td>0.1</td>\n",
       "    </tr>\n",
       "    <tr>\n",
       "      <th>184</th>\n",
       "      <td>31</td>\n",
       "      <td>7</td>\n",
       "      <td>55.0</td>\n",
       "      <td>15.0</td>\n",
       "      <td>0.0</td>\n",
       "      <td>89.3</td>\n",
       "      <td>28.3</td>\n",
       "      <td>67.2</td>\n",
       "      <td>8.3</td>\n",
       "      <td>28.3</td>\n",
       "      <td>14.5</td>\n",
       "    </tr>\n",
       "    <tr>\n",
       "      <th>102</th>\n",
       "      <td>11</td>\n",
       "      <td>9</td>\n",
       "      <td>77.0</td>\n",
       "      <td>21.0</td>\n",
       "      <td>1.8</td>\n",
       "      <td>58.5</td>\n",
       "      <td>1.9</td>\n",
       "      <td>8.4</td>\n",
       "      <td>1.1</td>\n",
       "      <td>2.4</td>\n",
       "      <td>0.3</td>\n",
       "    </tr>\n",
       "  </tbody>\n",
       "</table>\n",
       "<p>161 rows × 11 columns</p>\n",
       "</div>"
      ],
      "text/plain": [
       "     day  month    RH    Ws  Rain  FFMC   DMC     DC   ISI   BUI   FWI\n",
       "148   25      6  70.0  16.0   0.0  86.0  12.8   25.6   5.4  12.7   6.7\n",
       "229   14      9  81.0  15.0   0.0  84.6  12.6   41.5   4.3  14.3   5.7\n",
       "65     5      8  65.0  13.0   0.0  86.8  11.1   29.7   5.2  11.5   6.1\n",
       "172   19      7  58.0  16.0   0.0  88.1  27.8   61.1   7.3  27.7  13.0\n",
       "209   25      8  40.0  18.0   0.0  92.1  56.3  157.5  14.3  59.5  31.1\n",
       "..   ...    ...   ...   ...   ...   ...   ...    ...   ...   ...   ...\n",
       "106   15      9  82.0  15.0   0.4  44.9   0.9    7.3   0.2   1.4   0.0\n",
       "14    15      6  80.0  17.0   3.1  49.4   3.0    7.4   0.4   3.0   0.1\n",
       "92     1      9  76.0  17.0   7.2  46.0   1.3    7.5   0.2   1.8   0.1\n",
       "184   31      7  55.0  15.0   0.0  89.3  28.3   67.2   8.3  28.3  14.5\n",
       "102   11      9  77.0  21.0   1.8  58.5   1.9    8.4   1.1   2.4   0.3\n",
       "\n",
       "[161 rows x 11 columns]"
      ]
     },
     "execution_count": 178,
     "metadata": {},
     "output_type": "execute_result"
    }
   ],
   "source": [
    "x_train"
   ]
  },
  {
   "cell_type": "code",
   "execution_count": 179,
   "id": "efdb6fe6",
   "metadata": {},
   "outputs": [
    {
     "data": {
      "text/html": [
       "<div>\n",
       "<style scoped>\n",
       "    .dataframe tbody tr th:only-of-type {\n",
       "        vertical-align: middle;\n",
       "    }\n",
       "\n",
       "    .dataframe tbody tr th {\n",
       "        vertical-align: top;\n",
       "    }\n",
       "\n",
       "    .dataframe thead th {\n",
       "        text-align: right;\n",
       "    }\n",
       "</style>\n",
       "<table border=\"1\" class=\"dataframe\">\n",
       "  <thead>\n",
       "    <tr style=\"text-align: right;\">\n",
       "      <th></th>\n",
       "      <th>day</th>\n",
       "      <th>month</th>\n",
       "      <th>RH</th>\n",
       "      <th>Ws</th>\n",
       "      <th>Rain</th>\n",
       "      <th>FFMC</th>\n",
       "      <th>DMC</th>\n",
       "      <th>DC</th>\n",
       "      <th>ISI</th>\n",
       "      <th>BUI</th>\n",
       "      <th>FWI</th>\n",
       "    </tr>\n",
       "  </thead>\n",
       "  <tbody>\n",
       "    <tr>\n",
       "      <th>24</th>\n",
       "      <td>25</td>\n",
       "      <td>6</td>\n",
       "      <td>64.0</td>\n",
       "      <td>15.0</td>\n",
       "      <td>0.0</td>\n",
       "      <td>86.7</td>\n",
       "      <td>14.2</td>\n",
       "      <td>63.8</td>\n",
       "      <td>5.7</td>\n",
       "      <td>18.3</td>\n",
       "      <td>8.4</td>\n",
       "    </tr>\n",
       "    <tr>\n",
       "      <th>6</th>\n",
       "      <td>7</td>\n",
       "      <td>6</td>\n",
       "      <td>54.0</td>\n",
       "      <td>13.0</td>\n",
       "      <td>0.0</td>\n",
       "      <td>88.2</td>\n",
       "      <td>9.9</td>\n",
       "      <td>30.5</td>\n",
       "      <td>6.4</td>\n",
       "      <td>10.9</td>\n",
       "      <td>7.2</td>\n",
       "    </tr>\n",
       "    <tr>\n",
       "      <th>227</th>\n",
       "      <td>12</td>\n",
       "      <td>9</td>\n",
       "      <td>72.0</td>\n",
       "      <td>14.0</td>\n",
       "      <td>0.0</td>\n",
       "      <td>84.2</td>\n",
       "      <td>8.3</td>\n",
       "      <td>25.2</td>\n",
       "      <td>3.8</td>\n",
       "      <td>9.1</td>\n",
       "      <td>3.9</td>\n",
       "    </tr>\n",
       "    <tr>\n",
       "      <th>213</th>\n",
       "      <td>29</td>\n",
       "      <td>8</td>\n",
       "      <td>53.0</td>\n",
       "      <td>17.0</td>\n",
       "      <td>0.5</td>\n",
       "      <td>80.2</td>\n",
       "      <td>20.7</td>\n",
       "      <td>149.2</td>\n",
       "      <td>2.7</td>\n",
       "      <td>30.6</td>\n",
       "      <td>5.9</td>\n",
       "    </tr>\n",
       "    <tr>\n",
       "      <th>241</th>\n",
       "      <td>26</td>\n",
       "      <td>9</td>\n",
       "      <td>65.0</td>\n",
       "      <td>14.0</td>\n",
       "      <td>0.0</td>\n",
       "      <td>85.4</td>\n",
       "      <td>16.0</td>\n",
       "      <td>44.5</td>\n",
       "      <td>4.5</td>\n",
       "      <td>16.9</td>\n",
       "      <td>6.5</td>\n",
       "    </tr>\n",
       "    <tr>\n",
       "      <th>...</th>\n",
       "      <td>...</td>\n",
       "      <td>...</td>\n",
       "      <td>...</td>\n",
       "      <td>...</td>\n",
       "      <td>...</td>\n",
       "      <td>...</td>\n",
       "      <td>...</td>\n",
       "      <td>...</td>\n",
       "      <td>...</td>\n",
       "      <td>...</td>\n",
       "      <td>...</td>\n",
       "    </tr>\n",
       "    <tr>\n",
       "      <th>114</th>\n",
       "      <td>23</td>\n",
       "      <td>9</td>\n",
       "      <td>54.0</td>\n",
       "      <td>11.0</td>\n",
       "      <td>0.5</td>\n",
       "      <td>73.7</td>\n",
       "      <td>7.9</td>\n",
       "      <td>30.4</td>\n",
       "      <td>1.2</td>\n",
       "      <td>9.6</td>\n",
       "      <td>0.7</td>\n",
       "    </tr>\n",
       "    <tr>\n",
       "      <th>182</th>\n",
       "      <td>29</td>\n",
       "      <td>7</td>\n",
       "      <td>59.0</td>\n",
       "      <td>16.0</td>\n",
       "      <td>0.0</td>\n",
       "      <td>88.1</td>\n",
       "      <td>19.5</td>\n",
       "      <td>47.2</td>\n",
       "      <td>7.4</td>\n",
       "      <td>19.5</td>\n",
       "      <td>10.9</td>\n",
       "    </tr>\n",
       "    <tr>\n",
       "      <th>5</th>\n",
       "      <td>6</td>\n",
       "      <td>6</td>\n",
       "      <td>67.0</td>\n",
       "      <td>14.0</td>\n",
       "      <td>0.0</td>\n",
       "      <td>82.6</td>\n",
       "      <td>5.8</td>\n",
       "      <td>22.2</td>\n",
       "      <td>3.1</td>\n",
       "      <td>7.0</td>\n",
       "      <td>2.5</td>\n",
       "    </tr>\n",
       "    <tr>\n",
       "      <th>56</th>\n",
       "      <td>27</td>\n",
       "      <td>7</td>\n",
       "      <td>48.0</td>\n",
       "      <td>13.0</td>\n",
       "      <td>0.0</td>\n",
       "      <td>90.3</td>\n",
       "      <td>22.2</td>\n",
       "      <td>108.5</td>\n",
       "      <td>8.7</td>\n",
       "      <td>29.4</td>\n",
       "      <td>15.3</td>\n",
       "    </tr>\n",
       "    <tr>\n",
       "      <th>126</th>\n",
       "      <td>3</td>\n",
       "      <td>6</td>\n",
       "      <td>80.0</td>\n",
       "      <td>14.0</td>\n",
       "      <td>2.0</td>\n",
       "      <td>48.7</td>\n",
       "      <td>2.2</td>\n",
       "      <td>7.6</td>\n",
       "      <td>0.3</td>\n",
       "      <td>2.6</td>\n",
       "      <td>0.1</td>\n",
       "    </tr>\n",
       "  </tbody>\n",
       "</table>\n",
       "<p>80 rows × 11 columns</p>\n",
       "</div>"
      ],
      "text/plain": [
       "     day  month    RH    Ws  Rain  FFMC   DMC     DC  ISI   BUI   FWI\n",
       "24    25      6  64.0  15.0   0.0  86.7  14.2   63.8  5.7  18.3   8.4\n",
       "6      7      6  54.0  13.0   0.0  88.2   9.9   30.5  6.4  10.9   7.2\n",
       "227   12      9  72.0  14.0   0.0  84.2   8.3   25.2  3.8   9.1   3.9\n",
       "213   29      8  53.0  17.0   0.5  80.2  20.7  149.2  2.7  30.6   5.9\n",
       "241   26      9  65.0  14.0   0.0  85.4  16.0   44.5  4.5  16.9   6.5\n",
       "..   ...    ...   ...   ...   ...   ...   ...    ...  ...   ...   ...\n",
       "114   23      9  54.0  11.0   0.5  73.7   7.9   30.4  1.2   9.6   0.7\n",
       "182   29      7  59.0  16.0   0.0  88.1  19.5   47.2  7.4  19.5  10.9\n",
       "5      6      6  67.0  14.0   0.0  82.6   5.8   22.2  3.1   7.0   2.5\n",
       "56    27      7  48.0  13.0   0.0  90.3  22.2  108.5  8.7  29.4  15.3\n",
       "126    3      6  80.0  14.0   2.0  48.7   2.2    7.6  0.3   2.6   0.1\n",
       "\n",
       "[80 rows x 11 columns]"
      ]
     },
     "execution_count": 179,
     "metadata": {},
     "output_type": "execute_result"
    }
   ],
   "source": [
    "x_test"
   ]
  },
  {
   "cell_type": "code",
   "execution_count": 180,
   "id": "b43a8947",
   "metadata": {},
   "outputs": [],
   "source": [
    "#Standardization or feature scaling\n",
    "from sklearn.preprocessing import StandardScaler\n",
    "scaler=StandardScaler()\n",
    "x_train=scaler.fit_transform(x_train)\n",
    "x_test=scaler.transform(x_test)"
   ]
  },
  {
   "cell_type": "code",
   "execution_count": null,
   "id": "0be436b7",
   "metadata": {},
   "outputs": [],
   "source": []
  },
  {
   "cell_type": "markdown",
   "id": "77725f95",
   "metadata": {},
   "source": [
    "## Linear Regression"
   ]
  },
  {
   "cell_type": "code",
   "execution_count": 181,
   "id": "564e79a1",
   "metadata": {},
   "outputs": [],
   "source": [
    "from sklearn.linear_model import LinearRegression\n",
    "linear=LinearRegression()"
   ]
  },
  {
   "cell_type": "code",
   "execution_count": 182,
   "id": "c56d916a",
   "metadata": {},
   "outputs": [
    {
     "data": {
      "text/plain": [
       "LinearRegression()"
      ]
     },
     "execution_count": 182,
     "metadata": {},
     "output_type": "execute_result"
    }
   ],
   "source": [
    "linear.fit(x_train,y_train)"
   ]
  },
  {
   "cell_type": "code",
   "execution_count": 183,
   "id": "b6e531b6",
   "metadata": {},
   "outputs": [
    {
     "data": {
      "text/plain": [
       "array([-0.56653476, -0.32243093, -1.0925614 , -0.80981146,  0.30737705,\n",
       "        1.41242497,  2.703284  ,  1.95702458,  0.30774934, -3.6333234 ,\n",
       "       -0.10320527])"
      ]
     },
     "execution_count": 183,
     "metadata": {},
     "output_type": "execute_result"
    }
   ],
   "source": [
    "linear.coef_"
   ]
  },
  {
   "cell_type": "code",
   "execution_count": 184,
   "id": "a4c38dab",
   "metadata": {},
   "outputs": [
    {
     "data": {
      "text/plain": [
       "32.09316770186335"
      ]
     },
     "execution_count": 184,
     "metadata": {},
     "output_type": "execute_result"
    }
   ],
   "source": [
    "linear.intercept_"
   ]
  },
  {
   "cell_type": "code",
   "execution_count": 185,
   "id": "19837053",
   "metadata": {},
   "outputs": [],
   "source": [
    "linear_pred=linear.predict(x_test)"
   ]
  },
  {
   "cell_type": "code",
   "execution_count": 186,
   "id": "98ed7213",
   "metadata": {},
   "outputs": [
    {
     "data": {
      "text/plain": [
       "array([32.95776962, 35.2506064 , 31.76483223, 33.33165972, 31.99545873,\n",
       "       32.37077479, 37.5580341 , 28.59717466, 31.86755997, 30.7565763 ,\n",
       "       28.24495063, 38.06170151, 34.5084173 , 35.27615351, 34.19315126,\n",
       "       30.89557837, 31.83579159, 26.06987426, 32.80880849, 35.2082879 ,\n",
       "       30.83284382, 28.39334184, 33.31620714, 28.99812719, 36.99840314,\n",
       "       34.97681441, 33.65757274, 33.60883464, 26.50281845, 33.38396709,\n",
       "       29.49715877, 32.14556368, 32.29944325, 33.1023402 , 32.10876322,\n",
       "       33.03036027, 30.90140036, 34.59133804, 26.78972536, 20.74762974,\n",
       "       34.32126966, 32.67940656, 34.33195114, 25.22358214, 36.63691374,\n",
       "       32.75995053, 36.194112  , 30.75417549, 33.36175659, 28.147977  ,\n",
       "       37.63909084, 30.67570257, 34.05270924, 34.90036437, 33.29536179,\n",
       "       32.32157902, 32.81921836, 32.72080636, 35.15398122, 36.53848241,\n",
       "       34.6084537 , 29.71286325, 30.76171164, 37.10062751, 31.48069476,\n",
       "       31.53039751, 33.24426548, 30.64042606, 35.33809612, 24.20758783,\n",
       "       34.76665686, 33.09746489, 33.13195182, 34.76171982, 25.46670595,\n",
       "       32.15845714, 32.8500799 , 33.07401822, 35.56904712, 28.74281977])"
      ]
     },
     "execution_count": 186,
     "metadata": {},
     "output_type": "execute_result"
    }
   ],
   "source": [
    "linear_pred"
   ]
  },
  {
   "cell_type": "code",
   "execution_count": null,
   "id": "02b7432b",
   "metadata": {},
   "outputs": [],
   "source": []
  },
  {
   "cell_type": "markdown",
   "id": "e0bfca15",
   "metadata": {},
   "source": [
    "### Assumptions"
   ]
  },
  {
   "cell_type": "code",
   "execution_count": 187,
   "id": "ab9e8542",
   "metadata": {},
   "outputs": [
    {
     "name": "stderr",
     "output_type": "stream",
     "text": [
      "C:\\Users\\Govardhan\\anaconda3\\lib\\site-packages\\seaborn\\_decorators.py:36: FutureWarning: Pass the following variables as keyword args: x, y. From version 0.12, the only valid positional argument will be `data`, and passing other arguments without an explicit keyword will result in an error or misinterpretation.\n",
      "  warnings.warn(\n"
     ]
    },
    {
     "data": {
      "text/plain": [
       "<AxesSubplot:xlabel='Temperature_Value'>"
      ]
     },
     "execution_count": 187,
     "metadata": {},
     "output_type": "execute_result"
    },
    {
     "data": {
      "image/png": "[encoded data removed]",
      "text/plain": [
       "<Figure size 1080x576 with 1 Axes>"
      ]
     },
     "metadata": {},
     "output_type": "display_data"
    }
   ],
   "source": [
    "sns.scatterplot(y_test,linear_pred)"
   ]
  },
  {
   "cell_type": "code",
   "execution_count": 188,
   "id": "23a2f182",
   "metadata": {},
   "outputs": [],
   "source": [
    "linear_residuals=y_test-linear_pred"
   ]
  },
  {
   "cell_type": "code",
   "execution_count": 191,
   "id": "d3280fda",
   "metadata": {},
   "outputs": [
    {
     "data": {
      "text/plain": [
       "<seaborn.axisgrid.FacetGrid at 0x19958260c70>"
      ]
     },
     "execution_count": 191,
     "metadata": {},
     "output_type": "execute_result"
    },
    {
     "data": {
      "image/png": "[encoded data removed]",
      "text/plain": [
       "<Figure size 360x360 with 1 Axes>"
      ]
     },
     "metadata": {},
     "output_type": "display_data"
    }
   ],
   "source": [
    "sns.displot(linear_residuals,kind='kde')"
   ]
  },
  {
   "cell_type": "code",
   "execution_count": 219,
   "id": "892ce4fb",
   "metadata": {},
   "outputs": [
    {
     "name": "stderr",
     "output_type": "stream",
     "text": [
      "C:\\Users\\Govardhan\\anaconda3\\lib\\site-packages\\seaborn\\_decorators.py:36: FutureWarning: Pass the following variables as keyword args: x, y. From version 0.12, the only valid positional argument will be `data`, and passing other arguments without an explicit keyword will result in an error or misinterpretation.\n",
      "  warnings.warn(\n"
     ]
    },
    {
     "data": {
      "text/plain": [
       "<AxesSubplot:xlabel='Temperature_Value', ylabel='Temperature_Value'>"
      ]
     },
     "execution_count": 219,
     "metadata": {},
     "output_type": "execute_result"
    },
    {
     "data": {
      "image/png": "[encoded data removed]",
      "text/plain": [
       "<Figure size 1080x576 with 1 Axes>"
      ]
     },
     "metadata": {},
     "output_type": "display_data"
    }
   ],
   "source": [
    "sns.scatterplot(y_test,linear_residuals)"
   ]
  },
  {
   "cell_type": "markdown",
   "id": "a6150796",
   "metadata": {},
   "source": [
    "###  R square and Adjusted R square"
   ]
  },
  {
   "cell_type": "code",
   "execution_count": 193,
   "id": "13e65fb6",
   "metadata": {},
   "outputs": [],
   "source": [
    "from sklearn.metrics import r2_score\n",
    "score=r2_score(y_test,linear_pred)"
   ]
  },
  {
   "cell_type": "code",
   "execution_count": 194,
   "id": "ab85144c",
   "metadata": {},
   "outputs": [
    {
     "data": {
      "text/plain": [
       "0.4857993269661697"
      ]
     },
     "execution_count": 194,
     "metadata": {},
     "output_type": "execute_result"
    }
   ],
   "source": [
    "score"
   ]
  },
  {
   "cell_type": "code",
   "execution_count": 196,
   "id": "241e227a",
   "metadata": {},
   "outputs": [
    {
     "data": {
      "text/plain": [
       "0.40261980632834415"
      ]
     },
     "execution_count": 196,
     "metadata": {},
     "output_type": "execute_result"
    }
   ],
   "source": [
    "#Adjusted R2\n",
    "1 - (1-score)*(len(y_test)-1)/(len(y_test)-x_test.shape[1]-1)"
   ]
  },
  {
   "cell_type": "code",
   "execution_count": null,
   "id": "07258095",
   "metadata": {},
   "outputs": [],
   "source": []
  },
  {
   "cell_type": "code",
   "execution_count": null,
   "id": "e3e6b84a",
   "metadata": {},
   "outputs": [],
   "source": []
  },
  {
   "cell_type": "markdown",
   "id": "623fa7c4",
   "metadata": {},
   "source": [
    "### Ridge Regression"
   ]
  },
  {
   "cell_type": "code",
   "execution_count": 200,
   "id": "243a8e02",
   "metadata": {},
   "outputs": [],
   "source": [
    "from sklearn.linear_model import Ridge"
   ]
  },
  {
   "cell_type": "code",
   "execution_count": 201,
   "id": "d5ec933f",
   "metadata": {},
   "outputs": [],
   "source": [
    "ridge=Ridge()"
   ]
  },
  {
   "cell_type": "code",
   "execution_count": 203,
   "id": "4de6672e",
   "metadata": {},
   "outputs": [
    {
     "data": {
      "text/plain": [
       "Ridge()"
      ]
     },
     "execution_count": 203,
     "metadata": {},
     "output_type": "execute_result"
    }
   ],
   "source": [
    "ridge.fit(x_train,y_train)"
   ]
  },
  {
   "cell_type": "code",
   "execution_count": 205,
   "id": "44c007b4",
   "metadata": {},
   "outputs": [],
   "source": [
    "ridge_pred=ridge.predict(x_test)"
   ]
  },
  {
   "cell_type": "code",
   "execution_count": 206,
   "id": "f250ba76",
   "metadata": {},
   "outputs": [
    {
     "name": "stderr",
     "output_type": "stream",
     "text": [
      "C:\\Users\\Govardhan\\anaconda3\\lib\\site-packages\\seaborn\\_decorators.py:36: FutureWarning: Pass the following variables as keyword args: x, y. From version 0.12, the only valid positional argument will be `data`, and passing other arguments without an explicit keyword will result in an error or misinterpretation.\n",
      "  warnings.warn(\n"
     ]
    },
    {
     "data": {
      "text/plain": [
       "<AxesSubplot:xlabel='Temperature_Value'>"
      ]
     },
     "execution_count": 206,
     "metadata": {},
     "output_type": "execute_result"
    },
    {
     "data": {
      "image/png": "[encoded data removed]",
      "text/plain": [
       "<Figure size 1080x576 with 1 Axes>"
      ]
     },
     "metadata": {},
     "output_type": "display_data"
    }
   ],
   "source": [
    "sns.scatterplot(y_test,ridge_pred)"
   ]
  },
  {
   "cell_type": "code",
   "execution_count": 207,
   "id": "69b67aec",
   "metadata": {},
   "outputs": [],
   "source": [
    "residuals=y_test-ridge_pred"
   ]
  },
  {
   "cell_type": "code",
   "execution_count": 209,
   "id": "fdfcd8c1",
   "metadata": {},
   "outputs": [
    {
     "data": {
      "text/plain": [
       "<seaborn.axisgrid.FacetGrid at 0x199553d51c0>"
      ]
     },
     "execution_count": 209,
     "metadata": {},
     "output_type": "execute_result"
    },
    {
     "data": {
      "image/png": "[encoded data removed]",
      "text/plain": [
       "<Figure size 360x360 with 1 Axes>"
      ]
     },
     "metadata": {},
     "output_type": "display_data"
    }
   ],
   "source": [
    "sns.displot(residuals,kind='kde')"
   ]
  },
  {
   "cell_type": "code",
   "execution_count": 211,
   "id": "f6772d9d",
   "metadata": {},
   "outputs": [],
   "source": [
    "score=r2_score(y_test,ridge_pred)"
   ]
  },
  {
   "cell_type": "code",
   "execution_count": 212,
   "id": "e1284de7",
   "metadata": {},
   "outputs": [
    {
     "data": {
      "text/plain": [
       "0.504030137752923"
      ]
     },
     "execution_count": 212,
     "metadata": {},
     "output_type": "execute_result"
    }
   ],
   "source": [
    "score"
   ]
  },
  {
   "cell_type": "code",
   "execution_count": 213,
   "id": "e2e22559",
   "metadata": {},
   "outputs": [
    {
     "data": {
      "text/plain": [
       "0.42379971886001355"
      ]
     },
     "execution_count": 213,
     "metadata": {},
     "output_type": "execute_result"
    }
   ],
   "source": [
    "#Adjusted R2\n",
    "1 - (1-score)*(len(y_test)-1)/(len(y_test)-x_test.shape[1]-1)"
   ]
  },
  {
   "cell_type": "code",
   "execution_count": null,
   "id": "3ee1d672",
   "metadata": {},
   "outputs": [],
   "source": []
  },
  {
   "cell_type": "code",
   "execution_count": null,
   "id": "2d508e25",
   "metadata": {},
   "outputs": [],
   "source": []
  },
  {
   "cell_type": "code",
   "execution_count": null,
   "id": "3338dd24",
   "metadata": {
    "collapsed": true
   },
   "outputs": [],
   "source": []
  },
  {
   "cell_type": "markdown",
   "id": "950b4f03",
   "metadata": {},
   "source": [
    "### Lasso Regression"
   ]
  },
  {
   "cell_type": "code",
   "execution_count": 214,
   "id": "9bca5fc7",
   "metadata": {},
   "outputs": [],
   "source": [
    "from sklearn.linear_model import Lasso\n",
    "lasso=Lasso()"
   ]
  },
  {
   "cell_type": "code",
   "execution_count": 215,
   "id": "9205565f",
   "metadata": {},
   "outputs": [
    {
     "data": {
      "text/plain": [
       "Lasso()"
      ]
     },
     "execution_count": 215,
     "metadata": {},
     "output_type": "execute_result"
    }
   ],
   "source": [
    "lasso.fit(x_train,y_train)"
   ]
  },
  {
   "cell_type": "code",
   "execution_count": 217,
   "id": "ed457c9d",
   "metadata": {},
   "outputs": [],
   "source": [
    "lasso_pred=lasso.predict(x_test)"
   ]
  },
  {
   "cell_type": "code",
   "execution_count": 218,
   "id": "5bf2e276",
   "metadata": {},
   "outputs": [
    {
     "data": {
      "text/plain": [
       "array([32.73921717, 33.36898649, 32.1337006 , 32.79437563, 32.58627387,\n",
       "       31.73002913, 34.71731662, 30.09889494, 30.91445735, 32.76034628,\n",
       "       31.02124493, 32.56241744, 33.56182887, 33.70342906, 33.38815277,\n",
       "       32.01753272, 31.46052163, 27.49964196, 32.15208363, 33.01694415,\n",
       "       31.50549779, 29.8149113 , 33.43235505, 30.43764071, 34.78068518,\n",
       "       33.934604  , 32.5158654 , 32.81392885, 27.21527139, 32.99269141,\n",
       "       31.4875017 , 31.4350987 , 32.74704034, 32.77833299, 32.66842177,\n",
       "       32.19316226, 31.71398649, 33.44252797, 28.48614377, 28.36879632,\n",
       "       32.86400084, 32.88395038, 33.28645165, 27.59351992, 34.37583415,\n",
       "       32.46735991, 34.21780438, 30.96179264, 33.32126426, 31.24851297,\n",
       "       34.5530302 , 30.64377965, 34.17164865, 32.91132676, 33.49846031,\n",
       "       31.95141809, 32.6856346 , 33.16049779, 34.1348826 , 34.63282834,\n",
       "       33.62950064, 31.37407052, 30.85657157, 35.01694658, 32.19316226,\n",
       "       32.89060335, 33.05019025, 31.24734278, 34.4016534 , 28.02888035,\n",
       "       33.71907538, 31.52076655, 33.05292695, 33.61307106, 28.84483908,\n",
       "       32.23462784, 33.10495239, 32.26474093, 33.84072604, 28.9465402 ])"
      ]
     },
     "execution_count": 218,
     "metadata": {},
     "output_type": "execute_result"
    }
   ],
   "source": [
    "lasso_pred"
   ]
  },
  {
   "cell_type": "code",
   "execution_count": 220,
   "id": "c51a0e5d",
   "metadata": {},
   "outputs": [
    {
     "name": "stderr",
     "output_type": "stream",
     "text": [
      "C:\\Users\\Govardhan\\anaconda3\\lib\\site-packages\\seaborn\\_decorators.py:36: FutureWarning: Pass the following variables as keyword args: x, y. From version 0.12, the only valid positional argument will be `data`, and passing other arguments without an explicit keyword will result in an error or misinterpretation.\n",
      "  warnings.warn(\n"
     ]
    },
    {
     "data": {
      "text/plain": [
       "<AxesSubplot:xlabel='Temperature_Value'>"
      ]
     },
     "execution_count": 220,
     "metadata": {},
     "output_type": "execute_result"
    },
    {
     "data": {
      "image/png": "[encoded data removed]",
      "text/plain": [
       "<Figure size 1080x576 with 1 Axes>"
      ]
     },
     "metadata": {},
     "output_type": "display_data"
    }
   ],
   "source": [
    "sns.scatterplot(y_test,lasso_pred)"
   ]
  },
  {
   "cell_type": "code",
   "execution_count": 221,
   "id": "11f1ac56",
   "metadata": {},
   "outputs": [],
   "source": [
    "residuals=y_test-lasso_pred"
   ]
  },
  {
   "cell_type": "code",
   "execution_count": 223,
   "id": "265b1b5d",
   "metadata": {},
   "outputs": [
    {
     "data": {
      "text/plain": [
       "<seaborn.axisgrid.FacetGrid at 0x199553caeb0>"
      ]
     },
     "execution_count": 223,
     "metadata": {},
     "output_type": "execute_result"
    },
    {
     "data": {
      "image/png": "[encoded data removed]",
      "text/plain": [
       "<Figure size 360x360 with 1 Axes>"
      ]
     },
     "metadata": {},
     "output_type": "display_data"
    }
   ],
   "source": [
    "sns.displot(residuals,kind='kde')"
   ]
  },
  {
   "cell_type": "code",
   "execution_count": 224,
   "id": "29e3eedc",
   "metadata": {},
   "outputs": [],
   "source": [
    "score=r2_score(y_test,lasso_pred)"
   ]
  },
  {
   "cell_type": "code",
   "execution_count": 225,
   "id": "b98c4ca1",
   "metadata": {},
   "outputs": [
    {
     "data": {
      "text/plain": [
       "0.5040315570660829"
      ]
     },
     "execution_count": 225,
     "metadata": {},
     "output_type": "execute_result"
    }
   ],
   "source": [
    "score"
   ]
  },
  {
   "cell_type": "code",
   "execution_count": 226,
   "id": "e84e3aa9",
   "metadata": {},
   "outputs": [
    {
     "data": {
      "text/plain": [
       "0.4238013677679493"
      ]
     },
     "execution_count": 226,
     "metadata": {},
     "output_type": "execute_result"
    }
   ],
   "source": [
    "#Adjusted R2\n",
    "1 - (1-score)*(len(y_test)-1)/(len(y_test)-x_test.shape[1]-1)"
   ]
  },
  {
   "cell_type": "code",
   "execution_count": null,
   "id": "8d48885e",
   "metadata": {},
   "outputs": [],
   "source": []
  },
  {
   "cell_type": "code",
   "execution_count": null,
   "id": "e698b04a",
   "metadata": {},
   "outputs": [],
   "source": []
  },
  {
   "cell_type": "markdown",
   "id": "0d25e7a5",
   "metadata": {},
   "source": [
    "### Elastic Net "
   ]
  },
  {
   "cell_type": "code",
   "execution_count": 227,
   "id": "d2486d2a",
   "metadata": {},
   "outputs": [],
   "source": [
    "from sklearn.linear_model import ElasticNet\n",
    "en=ElasticNet()"
   ]
  },
  {
   "cell_type": "code",
   "execution_count": 228,
   "id": "f4f3d49f",
   "metadata": {},
   "outputs": [
    {
     "data": {
      "text/plain": [
       "ElasticNet()"
      ]
     },
     "execution_count": 228,
     "metadata": {},
     "output_type": "execute_result"
    }
   ],
   "source": [
    "en.fit(x_train,y_train)"
   ]
  },
  {
   "cell_type": "code",
   "execution_count": 229,
   "id": "cd6e51f6",
   "metadata": {},
   "outputs": [],
   "source": [
    "en_pred=en.predict(x_test)"
   ]
  },
  {
   "cell_type": "code",
   "execution_count": 230,
   "id": "3c64c779",
   "metadata": {},
   "outputs": [
    {
     "data": {
      "text/plain": [
       "array([32.69677304, 33.38811896, 31.94284599, 32.45273522, 32.55351538,\n",
       "       32.0182891 , 35.98962869, 30.05948651, 30.99777149, 31.98415075,\n",
       "       30.07263118, 32.69200214, 33.74660051, 34.0736411 , 33.85673305,\n",
       "       31.52092375, 31.37801914, 28.23809472, 32.17487988, 32.97114684,\n",
       "       30.94858045, 29.69874343, 33.25136808, 29.93753335, 35.60123913,\n",
       "       34.80003041, 32.40481996, 32.89274529, 27.85687858, 32.50844837,\n",
       "       31.15801004, 31.45613798, 32.57616553, 33.06035303, 32.06080572,\n",
       "       31.84392023, 31.21945416, 33.35310916, 28.76974621, 27.24929876,\n",
       "       32.90053889, 32.76166834, 33.57827561, 27.98335665, 34.95502419,\n",
       "       32.33755089, 35.03234244, 30.88183699, 33.51114794, 30.59673994,\n",
       "       35.91305815, 30.56527116, 34.13514402, 33.89290735, 33.48405064,\n",
       "       32.21714853, 32.1169838 , 33.05125443, 34.08162775, 35.11545998,\n",
       "       33.29474581, 30.61712751, 30.76530692, 35.88510691, 31.58614612,\n",
       "       32.46754271, 32.89164135, 30.71561733, 34.2600986 , 27.80304451,\n",
       "       33.93088142, 32.30503712, 33.20300583, 33.90388181, 28.97553445,\n",
       "       32.22517601, 33.1494326 , 31.96091591, 34.36210656, 29.24350907])"
      ]
     },
     "execution_count": 230,
     "metadata": {},
     "output_type": "execute_result"
    }
   ],
   "source": [
    "en_pred"
   ]
  },
  {
   "cell_type": "code",
   "execution_count": 231,
   "id": "737b1e9f",
   "metadata": {},
   "outputs": [
    {
     "name": "stderr",
     "output_type": "stream",
     "text": [
      "C:\\Users\\Govardhan\\anaconda3\\lib\\site-packages\\seaborn\\_decorators.py:36: FutureWarning: Pass the following variables as keyword args: x, y. From version 0.12, the only valid positional argument will be `data`, and passing other arguments without an explicit keyword will result in an error or misinterpretation.\n",
      "  warnings.warn(\n"
     ]
    },
    {
     "data": {
      "text/plain": [
       "<AxesSubplot:xlabel='Temperature_Value'>"
      ]
     },
     "execution_count": 231,
     "metadata": {},
     "output_type": "execute_result"
    },
    {
     "data": {
      "image/png": "[encoded data removed]",
      "text/plain": [
       "<Figure size 1080x576 with 1 Axes>"
      ]
     },
     "metadata": {},
     "output_type": "display_data"
    }
   ],
   "source": [
    "sns.scatterplot(y_test,en_pred)"
   ]
  },
  {
   "cell_type": "code",
   "execution_count": 232,
   "id": "154aa0fa",
   "metadata": {},
   "outputs": [],
   "source": [
    "residuals=y_test-en_pred"
   ]
  },
  {
   "cell_type": "code",
   "execution_count": 234,
   "id": "10efddfb",
   "metadata": {},
   "outputs": [
    {
     "data": {
      "text/plain": [
       "<seaborn.axisgrid.FacetGrid at 0x19959f4ee50>"
      ]
     },
     "execution_count": 234,
     "metadata": {},
     "output_type": "execute_result"
    },
    {
     "data": {
      "image/png": "[encoded data removed]",
      "text/plain": [
       "<Figure size 360x360 with 1 Axes>"
      ]
     },
     "metadata": {},
     "output_type": "display_data"
    }
   ],
   "source": [
    "sns.displot(residuals,kind='kde')"
   ]
  },
  {
   "cell_type": "code",
   "execution_count": 235,
   "id": "f46f3e48",
   "metadata": {},
   "outputs": [],
   "source": [
    "score=r2_score(y_test,en_pred)"
   ]
  },
  {
   "cell_type": "code",
   "execution_count": 236,
   "id": "b8c78a6f",
   "metadata": {},
   "outputs": [
    {
     "data": {
      "text/plain": [
       "0.5335193798282668"
      ]
     },
     "execution_count": 236,
     "metadata": {},
     "output_type": "execute_result"
    }
   ],
   "source": [
    "score"
   ]
  },
  {
   "cell_type": "code",
   "execution_count": 237,
   "id": "ddbba0af",
   "metadata": {},
   "outputs": [
    {
     "data": {
      "text/plain": [
       "0.4580592795063688"
      ]
     },
     "execution_count": 237,
     "metadata": {},
     "output_type": "execute_result"
    }
   ],
   "source": [
    "#Adjusted R2\n",
    "1 - (1-score)*(len(y_test)-1)/(len(y_test)-x_test.shape[1]-1)"
   ]
  },
  {
   "cell_type": "code",
   "execution_count": null,
   "id": "17b6e174",
   "metadata": {},
   "outputs": [],
   "source": []
  }
 ],
 "metadata": {
  "kernelspec": {
   "display_name": "Python 3 (ipykernel)",
   "language": "python",
   "name": "python3"
  },
  "language_info": {
   "codemirror_mode": {
    "name": "ipython",
    "version": 3
   },
   "file_extension": ".py",
   "mimetype": "text/x-python",
   "name": "python",
   "nbconvert_exporter": "python",
   "pygments_lexer": "ipython3",
   "version": "3.9.12"
  }
 },
 "nbformat": 4,
 "nbformat_minor": 5
}
